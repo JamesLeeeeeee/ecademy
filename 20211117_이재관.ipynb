{
  "nbformat": 4,
  "nbformat_minor": 0,
  "metadata": {
    "colab": {
      "name": "20211117_이재관.ipynb",
      "provenance": [],
      "authorship_tag": "ABX9TyPo6fXOgmGRfWNc4MdnAfFA",
      "include_colab_link": true
    },
    "kernelspec": {
      "name": "python3",
      "display_name": "Python 3"
    },
    "language_info": {
      "name": "python"
    }
  },
  "cells": [
    {
      "cell_type": "markdown",
      "metadata": {
        "id": "view-in-github",
        "colab_type": "text"
      },
      "source": [
        "<a href=\"https://colab.research.google.com/github/JamesLeeeeeee/ecademy/blob/master/20211117_%EC%9D%B4%EC%9E%AC%EA%B4%80.ipynb\" target=\"_parent\"><img src=\"https://colab.research.google.com/assets/colab-badge.svg\" alt=\"Open In Colab\"/></a>"
      ]
    },
    {
      "cell_type": "code",
      "metadata": {
        "id": "qM8XtN9GTTzU"
      },
      "source": [
        "from tensorflow import keras\n",
        "from sklearn.model_selection import train_test_split\n",
        "(train_input, train_target), (test_input, test_target)=\\\n",
        "keras.datasets.fashion_mnist.load_data()\n",
        "train_scaled= train_input.reshape(-1, 28, 28, 1)/255.0\n",
        "train_scaled, val_scaled, train_target, val_target=train_test_split(\n",
        "    train_scaled, train_target, test_size=0.2, random_state=42\n",
        ")"
      ],
      "execution_count": 2,
      "outputs": []
    },
    {
      "cell_type": "code",
      "metadata": {
        "id": "bcHVvfW0T_Kp"
      },
      "source": [
        "model= keras.Sequential()\n",
        "model.add(keras.layers.Conv2D(32, kernel_size=3, activation='relu', padding='same', input_shape=(28,28,1)))\n",
        "model.add(keras.layers.MaxPooling2D(2))"
      ],
      "execution_count": 4,
      "outputs": []
    },
    {
      "cell_type": "code",
      "metadata": {
        "id": "qf6Z3TeMUuIe"
      },
      "source": [
        "model.add(keras.layers.Conv2D(64, kernel_size=3, activation='relu', padding='same'))\n",
        "model.add(keras.layers.MaxPooling2D(2))"
      ],
      "execution_count": 7,
      "outputs": []
    },
    {
      "cell_type": "code",
      "metadata": {
        "id": "W4u7D4LeVDAW"
      },
      "source": [
        "model.add(keras.layers.Flatten())\n",
        "model.add(keras.layers.Dense(100, activation='relu'))\n",
        "model.add(keras.layers.Dropout(0.4))\n",
        "model.add(keras.layers.Dense(10, activation='softmax'))"
      ],
      "execution_count": 8,
      "outputs": []
    },
    {
      "cell_type": "code",
      "metadata": {
        "colab": {
          "base_uri": "https://localhost:8080/"
        },
        "id": "rCD9nt_ZX3Jr",
        "outputId": "f06b1cb9-64c6-42da-c813-b82af66b3bf2"
      },
      "source": [
        "model.summary()"
      ],
      "execution_count": 10,
      "outputs": [
        {
          "output_type": "stream",
          "name": "stdout",
          "text": [
            "Model: \"sequential\"\n",
            "_________________________________________________________________\n",
            " Layer (type)                Output Shape              Param #   \n",
            "=================================================================\n",
            " conv2d (Conv2D)             (None, 28, 28, 32)        320       \n",
            "                                                                 \n",
            " max_pooling2d (MaxPooling2D  (None, 14, 14, 32)       0         \n",
            " )                                                               \n",
            "                                                                 \n",
            " conv2d_1 (Conv2D)           (None, 14, 14, 64)        18496     \n",
            "                                                                 \n",
            " max_pooling2d_1 (MaxPooling  (None, 7, 7, 64)         0         \n",
            " 2D)                                                             \n",
            "                                                                 \n",
            " flatten (Flatten)           (None, 3136)              0         \n",
            "                                                                 \n",
            " dense (Dense)               (None, 100)               313700    \n",
            "                                                                 \n",
            " dropout (Dropout)           (None, 100)               0         \n",
            "                                                                 \n",
            " dense_1 (Dense)             (None, 10)                1010      \n",
            "                                                                 \n",
            "=================================================================\n",
            "Total params: 333,526\n",
            "Trainable params: 333,526\n",
            "Non-trainable params: 0\n",
            "_________________________________________________________________\n"
          ]
        }
      ]
    },
    {
      "cell_type": "code",
      "metadata": {
        "colab": {
          "base_uri": "https://localhost:8080/",
          "height": 856
        },
        "id": "E3_mhh2kYAmh",
        "outputId": "34441346-f83c-461c-e91f-58ceba5734cb"
      },
      "source": [
        "keras.utils.plot_model(model)"
      ],
      "execution_count": 11,
      "outputs": [
        {
          "output_type": "execute_result",
          "data": {
            "image/png": "[encoded data removed]",
            "text/plain": [
              "<IPython.core.display.Image object>"
            ]
          },
          "metadata": {},
          "execution_count": 11
        }
      ]
    },
    {
      "cell_type": "code",
      "metadata": {
        "colab": {
          "base_uri": "https://localhost:8080/"
        },
        "id": "KLYVTjHhZr-U",
        "outputId": "7ea7ad2a-2263-4f60-97e1-fb9da3f79c47"
      },
      "source": [
        "model.compile(optimizer='adam', loss='sparse_categorical_crossentropy', metrics='accuracy')\n",
        "checkpoint=keras.callbacks.ModelCheckpoint('best-model.h5', save_best_only=True)\n",
        "earlystopping=keras.callbacks.EarlyStopping(patience=2, restore_best_weights=True)\n",
        "history=model.fit(train_scaled, train_target, epochs=20, validation_data=(val_scaled, val_target), callbacks=[checkpoint, earlystopping])"
      ],
      "execution_count": 12,
      "outputs": [
        {
          "output_type": "stream",
          "name": "stdout",
          "text": [
            "Epoch 1/20\n",
            "1500/1500 [==============================] - 64s 42ms/step - loss: 0.5369 - accuracy: 0.8083 - val_loss: 0.3443 - val_accuracy: 0.8733\n",
            "Epoch 2/20\n",
            "1500/1500 [==============================] - 62s 41ms/step - loss: 0.3599 - accuracy: 0.8707 - val_loss: 0.2919 - val_accuracy: 0.8909\n",
            "Epoch 3/20\n",
            "1500/1500 [==============================] - 63s 42ms/step - loss: 0.3073 - accuracy: 0.8904 - val_loss: 0.2660 - val_accuracy: 0.9024\n",
            "Epoch 4/20\n",
            "1500/1500 [==============================] - 62s 41ms/step - loss: 0.2772 - accuracy: 0.9003 - val_loss: 0.2425 - val_accuracy: 0.9109\n",
            "Epoch 5/20\n",
            "1500/1500 [==============================] - 62s 41ms/step - loss: 0.2485 - accuracy: 0.9090 - val_loss: 0.2348 - val_accuracy: 0.9125\n",
            "Epoch 6/20\n",
            "1500/1500 [==============================] - 63s 42ms/step - loss: 0.2305 - accuracy: 0.9150 - val_loss: 0.2281 - val_accuracy: 0.9148\n",
            "Epoch 7/20\n",
            "1500/1500 [==============================] - 62s 41ms/step - loss: 0.2132 - accuracy: 0.9192 - val_loss: 0.2227 - val_accuracy: 0.9174\n",
            "Epoch 8/20\n",
            "1500/1500 [==============================] - 61s 41ms/step - loss: 0.1981 - accuracy: 0.9264 - val_loss: 0.2295 - val_accuracy: 0.9193\n",
            "Epoch 9/20\n",
            "1500/1500 [==============================] - 61s 41ms/step - loss: 0.1854 - accuracy: 0.9318 - val_loss: 0.2240 - val_accuracy: 0.9224\n"
          ]
        }
      ]
    },
    {
      "cell_type": "code",
      "metadata": {
        "colab": {
          "base_uri": "https://localhost:8080/",
          "height": 281
        },
        "id": "KF8ZvcBebnBw",
        "outputId": "e79423bb-e72b-45f8-d20d-05038503533e"
      },
      "source": [
        "import matplotlib.pyplot as plt\n",
        "plt.plot(history.history['loss'])\n",
        "plt.plot(history.history['val_loss'])\n",
        "plt.xlabel('epochs')\n",
        "plt.ylabel('loss')\n",
        "plt.legend(['train','val'])\n",
        "plt.show()"
      ],
      "execution_count": 15,
      "outputs": [
        {
          "output_type": "display_data",
          "data": {
            "image/png": "[encoded data removed]",
            "text/plain": [
              "<Figure size 432x288 with 1 Axes>"
            ]
          },
          "metadata": {
            "needs_background": "light"
          }
        }
      ]
    },
    {
      "cell_type": "code",
      "metadata": {
        "colab": {
          "base_uri": "https://localhost:8080/"
        },
        "id": "3Nk5xOq7b6t4",
        "outputId": "91193519-9f87-47e2-891b-c1493dacf500"
      },
      "source": [
        "model.evaluate(val_scaled, val_target)\n"
      ],
      "execution_count": 16,
      "outputs": [
        {
          "output_type": "stream",
          "name": "stdout",
          "text": [
            "375/375 [==============================] - 4s 12ms/step - loss: 0.2227 - accuracy: 0.9174\n"
          ]
        },
        {
          "output_type": "execute_result",
          "data": {
            "text/plain": [
              "[0.22272758185863495, 0.9174166917800903]"
            ]
          },
          "metadata": {},
          "execution_count": 16
        }
      ]
    },
    {
      "cell_type": "code",
      "metadata": {
        "colab": {
          "base_uri": "https://localhost:8080/",
          "height": 265
        },
        "id": "0e-GN4z7cJFK",
        "outputId": "aec4a29d-6295-4208-d6b9-39b2c984ddaa"
      },
      "source": [
        "plt.imshow(val_scaled[0].reshape(28,28), cmap='gray_r')\n",
        "plt.show()"
      ],
      "execution_count": 17,
      "outputs": [
        {
          "output_type": "display_data",
          "data": {
            "image/png": "[encoded data removed]",
            "text/plain": [
              "<Figure size 432x288 with 1 Axes>"
            ]
          },
          "metadata": {
            "needs_background": "light"
          }
        }
      ]
    },
    {
      "cell_type": "code",
      "metadata": {
        "colab": {
          "base_uri": "https://localhost:8080/"
        },
        "id": "Rr474js5cQFO",
        "outputId": "4e192dc9-4825-4b28-adde-ad9054ae3b94"
      },
      "source": [
        "preds= model.predict(val_scaled[0:1])\n",
        "print(preds)"
      ],
      "execution_count": 18,
      "outputs": [
        {
          "output_type": "stream",
          "name": "stdout",
          "text": [
            "[[1.7346722e-13 1.6864500e-21 1.1080265e-16 8.1807448e-16 9.3746197e-16\n",
            "  3.7318674e-17 3.9675454e-14 4.7132906e-19 1.0000000e+00 1.6416809e-21]]\n"
          ]
        }
      ]
    },
    {
      "cell_type": "code",
      "metadata": {
        "colab": {
          "base_uri": "https://localhost:8080/"
        },
        "id": "15Fg9Rzdcdq_",
        "outputId": "f418e2a7-a792-4d85-a3e7-0fe457d53f5e"
      },
      "source": [
        "5e3"
      ],
      "execution_count": 19,
      "outputs": [
        {
          "output_type": "execute_result",
          "data": {
            "text/plain": [
              "5000.0"
            ]
          },
          "metadata": {},
          "execution_count": 19
        }
      ]
    },
    {
      "cell_type": "code",
      "metadata": {
        "colab": {
          "base_uri": "https://localhost:8080/"
        },
        "id": "YoOtcmxDch12",
        "outputId": "fa8620a8-56ac-4d0a-dd79-f7f069e555f2"
      },
      "source": [
        "5e-3"
      ],
      "execution_count": 20,
      "outputs": [
        {
          "output_type": "execute_result",
          "data": {
            "text/plain": [
              "0.005"
            ]
          },
          "metadata": {},
          "execution_count": 20
        }
      ]
    },
    {
      "cell_type": "code",
      "metadata": {
        "colab": {
          "base_uri": "https://localhost:8080/",
          "height": 279
        },
        "id": "HdP-ce0JclSX",
        "outputId": "583a40ef-6968-4813-fe26-4c3d3de5eba0"
      },
      "source": [
        "plt.bar(range(1,11),preds[0])\n",
        "plt.xlabel('class')\n",
        "plt.show()"
      ],
      "execution_count": 21,
      "outputs": [
        {
          "output_type": "display_data",
          "data": {
            "image/png": "[encoded data removed]",
            "text/plain": [
              "<Figure size 432x288 with 1 Axes>"
            ]
          },
          "metadata": {
            "needs_background": "light"
          }
        }
      ]
    },
    {
      "cell_type": "code",
      "metadata": {
        "id": "zMKBfiKTcsUv"
      },
      "source": [
        "classes=['티셔츠', '바지','스웨터','드레스','코트','샌달','셔츠','스니커즈','가방','앵클 부츠']"
      ],
      "execution_count": 22,
      "outputs": []
    },
    {
      "cell_type": "code",
      "metadata": {
        "colab": {
          "base_uri": "https://localhost:8080/"
        },
        "id": "81cFKWZ4efSY",
        "outputId": "0b639593-7276-470e-ca05-17ad5f132ba7"
      },
      "source": [
        "import numpy as np\n",
        "print(classes[np.argmax(preds)])"
      ],
      "execution_count": 23,
      "outputs": [
        {
          "output_type": "stream",
          "name": "stdout",
          "text": [
            "가방\n"
          ]
        }
      ]
    },
    {
      "cell_type": "code",
      "metadata": {
        "id": "Tqu04lAKelnU"
      },
      "source": [
        "test_scaled= test_input.reshape(-1, 28, 28,1)/255.0"
      ],
      "execution_count": 24,
      "outputs": []
    },
    {
      "cell_type": "code",
      "metadata": {
        "colab": {
          "base_uri": "https://localhost:8080/"
        },
        "id": "8HhOzyoNeyRe",
        "outputId": "19e7d10e-7453-49c1-f8f7-41f83d809f17"
      },
      "source": [
        "model.evaluate(test_scaled, test_target)"
      ],
      "execution_count": 25,
      "outputs": [
        {
          "output_type": "stream",
          "name": "stdout",
          "text": [
            "313/313 [==============================] - 4s 12ms/step - loss: 0.2512 - accuracy: 0.9084\n"
          ]
        },
        {
          "output_type": "execute_result",
          "data": {
            "text/plain": [
              "[0.25119173526763916, 0.9083999991416931]"
            ]
          },
          "metadata": {},
          "execution_count": 25
        }
      ]
    },
    {
      "cell_type": "code",
      "metadata": {
        "id": "azVfUjgme0hN"
      },
      "source": [
        "from tensorflow import keras\n",
        "model= keras.models.load_model('best-model.h5')"
      ],
      "execution_count": 26,
      "outputs": []
    },
    {
      "cell_type": "code",
      "metadata": {
        "colab": {
          "base_uri": "https://localhost:8080/"
        },
        "id": "YcEMxux7fvQ0",
        "outputId": "1fed88c9-e680-425f-d354-65fe3ceca5e6"
      },
      "source": [
        "model.layers"
      ],
      "execution_count": 27,
      "outputs": [
        {
          "output_type": "execute_result",
          "data": {
            "text/plain": [
              "[<keras.layers.convolutional.Conv2D at 0x7fce9aca37d0>,\n",
              " <keras.layers.pooling.MaxPooling2D at 0x7fce9ad15c90>,\n",
              " <keras.layers.convolutional.Conv2D at 0x7fce9b232150>,\n",
              " <keras.layers.pooling.MaxPooling2D at 0x7fce97b758d0>,\n",
              " <keras.layers.core.flatten.Flatten at 0x7fce9ace8510>,\n",
              " <keras.layers.core.dense.Dense at 0x7fce9ac770d0>,\n",
              " <keras.layers.core.dropout.Dropout at 0x7fce97b81050>,\n",
              " <keras.layers.core.dense.Dense at 0x7fce9e8865d0>]"
            ]
          },
          "metadata": {},
          "execution_count": 27
        }
      ]
    },
    {
      "cell_type": "code",
      "metadata": {
        "id": "ks2_F2uxfxU9"
      },
      "source": [
        "conv=model.layers[0]"
      ],
      "execution_count": 28,
      "outputs": []
    },
    {
      "cell_type": "code",
      "metadata": {
        "colab": {
          "base_uri": "https://localhost:8080/"
        },
        "id": "-LwhmntCf1OM",
        "outputId": "e693ee12-18d1-4872-df53-4fda6e640dd1"
      },
      "source": [
        "print(conv.weights[0].shape, conv.weights[1].shape)"
      ],
      "execution_count": 29,
      "outputs": [
        {
          "output_type": "stream",
          "name": "stdout",
          "text": [
            "(3, 3, 1, 32) (32,)\n"
          ]
        }
      ]
    },
    {
      "cell_type": "code",
      "metadata": {
        "colab": {
          "base_uri": "https://localhost:8080/"
        },
        "id": "A0pneBKzf7te",
        "outputId": "4ff1e006-5a96-418c-a199-cf9964571268"
      },
      "source": [
        "conv_weights= conv.weights[0].numpy()\n",
        "print(conv_weights.mean(), conv_weights.std())"
      ],
      "execution_count": 30,
      "outputs": [
        {
          "output_type": "stream",
          "name": "stdout",
          "text": [
            "-0.014286831 0.2263944\n"
          ]
        }
      ]
    },
    {
      "cell_type": "code",
      "metadata": {
        "colab": {
          "base_uri": "https://localhost:8080/",
          "height": 279
        },
        "id": "aIPB9JjPgJ6m",
        "outputId": "b25fc05a-2454-45cf-a698-49a6f8f3edf9"
      },
      "source": [
        "import matplotlib.pyplot as plt\n",
        "plt.hist(conv_weights.reshape(-1, 1))\n",
        "plt.xlabel('weight')\n",
        "plt.ylabel('count')\n",
        "plt.show()"
      ],
      "execution_count": 32,
      "outputs": [
        {
          "output_type": "display_data",
          "data": {
            "image/png": "[encoded data removed]",
            "text/plain": [
              "<Figure size 432x288 with 1 Axes>"
            ]
          },
          "metadata": {
            "needs_background": "light"
          }
        }
      ]
    },
    {
      "cell_type": "code",
      "metadata": {
        "colab": {
          "base_uri": "https://localhost:8080/",
          "height": 132
        },
        "id": "c-ujQTzRgdEj",
        "outputId": "0ab3686a-66aa-4c5d-b341-c2a2e563b4d9"
      },
      "source": [
        "fig , axs= plt.subplots(2,16, figsize=(15,2))\n",
        "for i in range(2):\n",
        "  for j in range(16):\n",
        "    axs[i, j].imshow(conv_weights[:,:,0,i*16+j],vmin=-0.5, vmax=0.5)\n",
        "    axs[i, j].axis('off')\n",
        "plt.show()"
      ],
      "execution_count": 33,
      "outputs": [
        {
          "output_type": "display_data",
          "data": {
            "image/png": "[encoded data removed]",
            "text/plain": [
              "<Figure size 1080x144 with 32 Axes>"
            ]
          },
          "metadata": {
            "needs_background": "light"
          }
        }
      ]
    },
    {
      "cell_type": "code",
      "metadata": {
        "id": "Dle8wE7cg6EF"
      },
      "source": [
        "no_training_model= keras.Sequential()\n",
        "no_training_model.add(keras.layers.Conv2D(32, kernel_size=3, activation='relu',padding='same', input_shape=(28,28,1)))"
      ],
      "execution_count": 37,
      "outputs": []
    },
    {
      "cell_type": "code",
      "metadata": {
        "colab": {
          "base_uri": "https://localhost:8080/"
        },
        "id": "Y1Gxl4a0jDh2",
        "outputId": "33373f7f-ea4a-4c47-8bf2-466b9265ce15"
      },
      "source": [
        "no_training_conv=no_training_model.layers[0]\n",
        "print(no_training_conv.weights[0].shape)"
      ],
      "execution_count": 40,
      "outputs": [
        {
          "output_type": "stream",
          "name": "stdout",
          "text": [
            "(3, 3, 1, 32)\n"
          ]
        }
      ]
    },
    {
      "cell_type": "code",
      "metadata": {
        "colab": {
          "base_uri": "https://localhost:8080/"
        },
        "id": "3iqht6OrjdCB",
        "outputId": "e105ec1c-06cd-4096-aed5-9ce20e4eeebb"
      },
      "source": [
        "no_training_weights= no_training_conv.weights[0].numpy()\n",
        "print(no_training_weights.mean(), no_training_weights.std())"
      ],
      "execution_count": 41,
      "outputs": [
        {
          "output_type": "stream",
          "name": "stdout",
          "text": [
            "0.0047708154 0.0799582\n"
          ]
        }
      ]
    },
    {
      "cell_type": "code",
      "metadata": {
        "colab": {
          "base_uri": "https://localhost:8080/",
          "height": 279
        },
        "id": "OFP-gnnYj_A9",
        "outputId": "04ac7405-1835-4e19-ae8e-d235a58c9783"
      },
      "source": [
        "plt.hist(no_training_weights.reshape(-1,1))\n",
        "plt.xlabel('weight')\n",
        "plt.ylabel('count')\n",
        "plt.show()"
      ],
      "execution_count": 42,
      "outputs": [
        {
          "output_type": "display_data",
          "data": {
            "image/png": "[encoded data removed]",
            "text/plain": [
              "<Figure size 432x288 with 1 Axes>"
            ]
          },
          "metadata": {
            "needs_background": "light"
          }
        }
      ]
    },
    {
      "cell_type": "code",
      "metadata": {
        "colab": {
          "base_uri": "https://localhost:8080/",
          "height": 132
        },
        "id": "vMOtMkykkM0D",
        "outputId": "aa415381-4b0d-479b-f889-f74b4fa3bea1"
      },
      "source": [
        "fig, axs= plt.subplots(2,16, figsize=(15,2))\n",
        "for i in range(2):\n",
        "  for j in range(16):\n",
        "    axs[i, j].imshow(no_training_weights[:,:,0,i*16+j], vmin=-0.5, vmax=0.5)\n",
        "    axs[i,j].axis('off')\n",
        "plt.show()"
      ],
      "execution_count": 43,
      "outputs": [
        {
          "output_type": "display_data",
          "data": {
            "image/png": "[encoded data removed]",
            "text/plain": [
              "<Figure size 1080x144 with 32 Axes>"
            ]
          },
          "metadata": {
            "needs_background": "light"
          }
        }
      ]
    },
    {
      "cell_type": "code",
      "metadata": {
        "colab": {
          "base_uri": "https://localhost:8080/"
        },
        "id": "AXYsJ-qekovN",
        "outputId": "b14cad1b-a694-4099-828c-6e7d3c325cbf"
      },
      "source": [
        "print(model.input)"
      ],
      "execution_count": 44,
      "outputs": [
        {
          "output_type": "stream",
          "name": "stdout",
          "text": [
            "KerasTensor(type_spec=TensorSpec(shape=(None, 28, 28, 1), dtype=tf.float32, name='conv2d_input'), name='conv2d_input', description=\"created by layer 'conv2d_input'\")\n"
          ]
        }
      ]
    },
    {
      "cell_type": "code",
      "metadata": {
        "id": "JPPV_4Phmmfh"
      },
      "source": [
        "conv_acti=keras.Model(model.input, model.layers[0].output)"
      ],
      "execution_count": 45,
      "outputs": []
    },
    {
      "cell_type": "code",
      "metadata": {
        "colab": {
          "base_uri": "https://localhost:8080/",
          "height": 265
        },
        "id": "n-sAev1gmzMq",
        "outputId": "ee33b26b-165a-466d-9409-82e12448fbc8"
      },
      "source": [
        "plt.imshow(train_input[0],cmap='gray_r')\n",
        "plt.show()"
      ],
      "execution_count": 46,
      "outputs": [
        {
          "output_type": "display_data",
          "data": {
            "image/png": "[encoded data removed]",
            "text/plain": [
              "<Figure size 432x288 with 1 Axes>"
            ]
          },
          "metadata": {
            "needs_background": "light"
          }
        }
      ]
    },
    {
      "cell_type": "code",
      "metadata": {
        "id": "mOJy5wxim57Z"
      },
      "source": [
        "inputs=train_input[0:1].reshape(-1,28,28,1)/255.0\n",
        "feature_maps= conv_acti.predict(inputs)"
      ],
      "execution_count": 48,
      "outputs": []
    },
    {
      "cell_type": "code",
      "metadata": {
        "colab": {
          "base_uri": "https://localhost:8080/"
        },
        "id": "TNkg4oYWnIB7",
        "outputId": "bbba2c74-b2a0-4a42-eacb-54bffe956409"
      },
      "source": [
        "feature_maps\n"
      ],
      "execution_count": 49,
      "outputs": [
        {
          "output_type": "execute_result",
          "data": {
            "text/plain": [
              "array([[[[0.        , 0.        , 0.        , ..., 0.        ,\n",
              "          0.        , 0.00635361],\n",
              "         [0.        , 0.        , 0.        , ..., 0.        ,\n",
              "          0.        , 0.00635361],\n",
              "         [0.        , 0.        , 0.        , ..., 0.        ,\n",
              "          0.        , 0.00635361],\n",
              "         ...,\n",
              "         [0.        , 0.        , 0.        , ..., 0.        ,\n",
              "          0.        , 0.00635361],\n",
              "         [0.        , 0.        , 0.        , ..., 0.        ,\n",
              "          0.        , 0.00635361],\n",
              "         [0.        , 0.        , 0.        , ..., 0.        ,\n",
              "          0.        , 0.00635361]],\n",
              "\n",
              "        [[0.        , 0.        , 0.        , ..., 0.        ,\n",
              "          0.        , 0.00635361],\n",
              "         [0.        , 0.        , 0.        , ..., 0.        ,\n",
              "          0.        , 0.00635361],\n",
              "         [0.        , 0.        , 0.        , ..., 0.        ,\n",
              "          0.        , 0.00635361],\n",
              "         ...,\n",
              "         [0.        , 0.        , 0.        , ..., 0.        ,\n",
              "          0.        , 0.00635361],\n",
              "         [0.        , 0.        , 0.        , ..., 0.        ,\n",
              "          0.        , 0.00635361],\n",
              "         [0.        , 0.        , 0.        , ..., 0.        ,\n",
              "          0.        , 0.00635361]],\n",
              "\n",
              "        [[0.        , 0.        , 0.        , ..., 0.        ,\n",
              "          0.        , 0.00635361],\n",
              "         [0.        , 0.        , 0.        , ..., 0.        ,\n",
              "          0.        , 0.00635361],\n",
              "         [0.        , 0.        , 0.        , ..., 0.        ,\n",
              "          0.        , 0.00635361],\n",
              "         ...,\n",
              "         [0.        , 0.        , 0.        , ..., 0.        ,\n",
              "          0.        , 0.00746311],\n",
              "         [0.        , 0.        , 0.        , ..., 0.        ,\n",
              "          0.        , 0.00681269],\n",
              "         [0.        , 0.        , 0.        , ..., 0.        ,\n",
              "          0.        , 0.00634918]],\n",
              "\n",
              "        ...,\n",
              "\n",
              "        [[0.        , 0.        , 0.        , ..., 0.        ,\n",
              "          0.        , 0.00571379],\n",
              "         [0.        , 0.        , 0.        , ..., 0.        ,\n",
              "          0.        , 0.00438259],\n",
              "         [0.        , 0.        , 0.        , ..., 0.        ,\n",
              "          0.        , 0.00635361],\n",
              "         ...,\n",
              "         [0.        , 0.        , 0.09559285, ..., 0.06553507,\n",
              "          0.        , 0.        ],\n",
              "         [0.        , 0.        , 0.        , ..., 0.03048134,\n",
              "          0.00887374, 0.        ],\n",
              "         [0.        , 0.        , 0.        , ..., 0.        ,\n",
              "          0.        , 0.00635361]],\n",
              "\n",
              "        [[0.        , 0.        , 0.        , ..., 0.        ,\n",
              "          0.        , 0.00635361],\n",
              "         [0.        , 0.        , 0.        , ..., 0.        ,\n",
              "          0.        , 0.00635361],\n",
              "         [0.        , 0.        , 0.        , ..., 0.        ,\n",
              "          0.        , 0.00635361],\n",
              "         ...,\n",
              "         [0.        , 0.        , 0.        , ..., 0.        ,\n",
              "          0.        , 0.00635361],\n",
              "         [0.        , 0.        , 0.        , ..., 0.        ,\n",
              "          0.        , 0.00635361],\n",
              "         [0.        , 0.        , 0.        , ..., 0.        ,\n",
              "          0.        , 0.00635361]],\n",
              "\n",
              "        [[0.        , 0.        , 0.        , ..., 0.        ,\n",
              "          0.        , 0.00635361],\n",
              "         [0.        , 0.        , 0.        , ..., 0.        ,\n",
              "          0.        , 0.00635361],\n",
              "         [0.        , 0.        , 0.        , ..., 0.        ,\n",
              "          0.        , 0.00635361],\n",
              "         ...,\n",
              "         [0.        , 0.        , 0.        , ..., 0.        ,\n",
              "          0.        , 0.00635361],\n",
              "         [0.        , 0.        , 0.        , ..., 0.        ,\n",
              "          0.        , 0.00635361],\n",
              "         [0.        , 0.        , 0.        , ..., 0.        ,\n",
              "          0.        , 0.00635361]]]], dtype=float32)"
            ]
          },
          "metadata": {},
          "execution_count": 49
        }
      ]
    },
    {
      "cell_type": "code",
      "metadata": {
        "colab": {
          "base_uri": "https://localhost:8080/"
        },
        "id": "HLaHluG5nOz8",
        "outputId": "23f5a23f-e63d-41cb-a093-65674974d488"
      },
      "source": [
        "print(feature_maps.shape)"
      ],
      "execution_count": 50,
      "outputs": [
        {
          "output_type": "stream",
          "name": "stdout",
          "text": [
            "(1, 28, 28, 32)\n"
          ]
        }
      ]
    },
    {
      "cell_type": "code",
      "metadata": {
        "colab": {
          "base_uri": "https://localhost:8080/",
          "height": 452
        },
        "id": "GgIvK_vbnR9Y",
        "outputId": "6668aacc-02e3-4324-ca8e-7f0718d709b2"
      },
      "source": [
        "fig, axs= plt.subplots(4,8, figsize=(15,8))\n",
        "for i in range(4):\n",
        "  for j in range(8):\n",
        "    axs[i,j].imshow(feature_maps[0,:,:,i*8+j])\n",
        "    axs[i,j].axis('off')\n",
        "plt.show()"
      ],
      "execution_count": 52,
      "outputs": [
        {
          "output_type": "display_data",
          "data": {
            "image/png": "[encoded data removed]",
            "text/plain": [
              "<Figure size 1080x576 with 32 Axes>"
            ]
          },
          "metadata": {
            "needs_background": "light"
          }
        }
      ]
    },
    {
      "cell_type": "code",
      "metadata": {
        "id": "E0ib_FuWnqFD"
      },
      "source": [
        "conv2_acti= keras.Model(model.input, model.layers[2].output)\n",
        "inputs=train_input[0:1].reshape(-1,28,28,1)/255.0\n",
        "feature_maps=conv2_acti.predict(inputs)"
      ],
      "execution_count": 58,
      "outputs": []
    },
    {
      "cell_type": "code",
      "metadata": {
        "colab": {
          "base_uri": "https://localhost:8080/"
        },
        "id": "gHl83YPhohD5",
        "outputId": "08de8eea-b610-4e6b-ec57-041b2c4f9d01"
      },
      "source": [
        "print(feature_maps.shape)"
      ],
      "execution_count": 59,
      "outputs": [
        {
          "output_type": "stream",
          "name": "stdout",
          "text": [
            "(1, 14, 14, 64)\n"
          ]
        }
      ]
    },
    {
      "cell_type": "code",
      "metadata": {
        "colab": {
          "base_uri": "https://localhost:8080/",
          "height": 683
        },
        "id": "DAJ0TGmIovii",
        "outputId": "81ea8aa3-e966-4449-e7de-38b34a82a085"
      },
      "source": [
        "fig, axs= plt.subplots(8,8, figsize=(12,12))\n",
        "for i in range(8):\n",
        "  for j in range(8):\n",
        "    axs[i,j].imshow(feature_maps[0,:,:,i*8+j])\n",
        "    axs[i,j].axis('off')\n",
        "plt.show()"
      ],
      "execution_count": 60,
      "outputs": [
        {
          "output_type": "display_data",
          "data": {
            "image/png": "[encoded data removed]",
            "text/plain": [
              "<Figure size 864x864 with 64 Axes>"
            ]
          },
          "metadata": {
            "needs_background": "light"
          }
        }
      ]
    },
    {
      "cell_type": "code",
      "metadata": {
        "id": "viWDplLppTW7"
      },
      "source": [
        ""
      ],
      "execution_count": null,
      "outputs": []
    }
  ]
}