{
  "nbformat": 4,
  "nbformat_minor": 0,
  "metadata": {
    "colab": {
      "name": "20211118_이재관.ipynb",
      "provenance": [],
      "authorship_tag": "ABX9TyPHa46JzsdoHWVIu60CwnLG",
      "include_colab_link": true
    },
    "kernelspec": {
      "name": "python3",
      "display_name": "Python 3"
    },
    "language_info": {
      "name": "python"
    }
  },
  "cells": [
    {
      "cell_type": "markdown",
      "metadata": {
        "id": "view-in-github",
        "colab_type": "text"
      },
      "source": [
        "<a href=\"https://colab.research.google.com/github/JamesLeeeeeee/ecademy/blob/master/20211118_%EC%9D%B4%EC%9E%AC%EA%B4%80.ipynb\" target=\"_parent\"><img src=\"https://colab.research.google.com/assets/colab-badge.svg\" alt=\"Open In Colab\"/></a>"
      ]
    },
    {
      "cell_type": "code",
      "metadata": {
        "colab": {
          "base_uri": "https://localhost:8080/"
        },
        "id": "BsQuJqKpL08f",
        "outputId": "d384f0b0-5b9c-45aa-d0c7-3de60273ea4f"
      },
      "source": [
        "from tensorflow.keras.datasets import imdb\n",
        "(train_input, train_target), (test_input, test_target)= imdb.load_data(num_words=500)\n",
        "print(train_input.shape, test_input.shape)"
      ],
      "execution_count": 1,
      "outputs": [
        {
          "output_type": "stream",
          "name": "stdout",
          "text": [
            "Downloading data from https://storage.googleapis.com/tensorflow/tf-keras-datasets/imdb.npz\n",
            "17465344/17464789 [==============================] - 0s 0us/step\n",
            "17473536/17464789 [==============================] - 0s 0us/step\n",
            "(25000,) (25000,)\n"
          ]
        }
      ]
    },
    {
      "cell_type": "code",
      "metadata": {
        "colab": {
          "base_uri": "https://localhost:8080/"
        },
        "id": "-0hrPQVOMNmL",
        "outputId": "e5b7d455-75b2-433b-819a-388d149cf104"
      },
      "source": [
        "print(len(train_input[0]))\n",
        "print(len(train_input[1]))"
      ],
      "execution_count": 2,
      "outputs": [
        {
          "output_type": "stream",
          "name": "stdout",
          "text": [
            "218\n",
            "189\n"
          ]
        }
      ]
    },
    {
      "cell_type": "code",
      "metadata": {
        "colab": {
          "base_uri": "https://localhost:8080/"
        },
        "id": "Y7Ba9Mw6MTsX",
        "outputId": "5ee9c976-d48e-4453-c998-b5056a611e27"
      },
      "source": [
        "print(train_target[:20])"
      ],
      "execution_count": 3,
      "outputs": [
        {
          "output_type": "stream",
          "name": "stdout",
          "text": [
            "[1 0 0 1 0 0 1 0 1 0 1 0 0 0 0 0 1 1 0 1]\n"
          ]
        }
      ]
    },
    {
      "cell_type": "code",
      "metadata": {
        "id": "5ADpdaWuMavW"
      },
      "source": [
        "from sklearn.model_selection import train_test_split\n",
        "train_input, val_input, train_target, val_target=train_test_split(\n",
        "    train_input, train_target, test_size=0.2, random_state=42\n",
        ")"
      ],
      "execution_count": 4,
      "outputs": []
    },
    {
      "cell_type": "code",
      "metadata": {
        "colab": {
          "base_uri": "https://localhost:8080/"
        },
        "id": "lBpM05ECMpmF",
        "outputId": "76d745e4-809d-4e30-c145-038e789d5dc0"
      },
      "source": [
        "import numpy as np\n",
        "lengths=np.array([len(x) for x in train_input])\n",
        "print(np.mean(lengths), np.argmax(lengths))"
      ],
      "execution_count": 5,
      "outputs": [
        {
          "output_type": "stream",
          "name": "stdout",
          "text": [
            "239.00925 6161\n"
          ]
        }
      ]
    },
    {
      "cell_type": "code",
      "metadata": {
        "colab": {
          "base_uri": "https://localhost:8080/"
        },
        "id": "ymk2OuoZM4y4",
        "outputId": "53cfc7e2-0451-42b4-e77a-dfe0875e1b44"
      },
      "source": [
        "np.median(lengths)"
      ],
      "execution_count": 6,
      "outputs": [
        {
          "output_type": "execute_result",
          "data": {
            "text/plain": [
              "178.0"
            ]
          },
          "metadata": {},
          "execution_count": 6
        }
      ]
    },
    {
      "cell_type": "code",
      "metadata": {
        "colab": {
          "base_uri": "https://localhost:8080/",
          "height": 278
        },
        "id": "Wr_VD_4SM8vl",
        "outputId": "610fd52d-e4ca-4f47-b303-ce8def1774c9"
      },
      "source": [
        "import matplotlib.pyplot as plt\n",
        "plt.hist(lengths)\n",
        "plt.xlabel('length')\n",
        "plt.ylabel('frequency')\n",
        "plt.show()"
      ],
      "execution_count": 7,
      "outputs": [
        {
          "output_type": "display_data",
          "data": {
            "image/png": "[encoded data removed]",
            "text/plain": [
              "<Figure size 432x288 with 1 Axes>"
            ]
          },
          "metadata": {
            "needs_background": "light"
          }
        }
      ]
    },
    {
      "cell_type": "code",
      "metadata": {
        "id": "VuTNw0SrNI4B"
      },
      "source": [
        "from tensorflow.keras.preprocessing.sequence import pad_sequences\n",
        "train_seq= pad_sequences(train_input, maxlen=100)"
      ],
      "execution_count": 8,
      "outputs": []
    },
    {
      "cell_type": "code",
      "metadata": {
        "colab": {
          "base_uri": "https://localhost:8080/"
        },
        "id": "v9tPyeJDWKju",
        "outputId": "78d23466-eb31-4302-a362-b18a653e138f"
      },
      "source": [
        "print(train_seq[0])\n",
        "print(train_input[0][-10:])"
      ],
      "execution_count": 9,
      "outputs": [
        {
          "output_type": "stream",
          "name": "stdout",
          "text": [
            "[ 10   4  20   9   2 364 352   5  45   6   2   2  33 269   8   2 142   2\n",
            "   5   2  17  73  17 204   5   2  19  55   2   2  92  66 104  14  20  93\n",
            "  76   2 151  33   4  58  12 188   2 151  12 215  69 224 142  73 237   6\n",
            "   2   7   2   2 188   2 103  14  31  10  10 451   7   2   5   2  80  91\n",
            "   2  30   2  34  14  20 151  50  26 131  49   2  84  46  50  37  80  79\n",
            "   6   2  46   7  14  20  10  10 470 158]\n",
            "[6, 2, 46, 7, 14, 20, 10, 10, 470, 158]\n"
          ]
        }
      ]
    },
    {
      "cell_type": "code",
      "metadata": {
        "colab": {
          "base_uri": "https://localhost:8080/"
        },
        "id": "DFKjTLj3WQ9c",
        "outputId": "4fd5f64c-3a1e-4492-d1d2-2914a5409332"
      },
      "source": [
        "print(train_seq[5])"
      ],
      "execution_count": 10,
      "outputs": [
        {
          "output_type": "stream",
          "name": "stdout",
          "text": [
            "[  0   0   0   0   1   2 195  19  49   2   2 190   4   2 352   2 183  10\n",
            "  10  13  82  79   4   2  36  71 269   8   2  25  19  49   7   4   2   2\n",
            "   2   2   2  10  10  48  25  40   2  11   2   2  40   2   2   5   4   2\n",
            "   2  95  14 238  56 129   2  10  10  21   2  94 364 352   2   2  11 190\n",
            "  24 484   2   7  94 205 405  10  10  87   2  34  49   2   7   2   2   2\n",
            "   2   2 290   2  46  48  64  18   4   2]\n"
          ]
        }
      ]
    },
    {
      "cell_type": "code",
      "metadata": {
        "id": "MsLY6wenWist"
      },
      "source": [
        "val_seq=pad_sequences(val_input, maxlen=100)"
      ],
      "execution_count": 19,
      "outputs": []
    },
    {
      "cell_type": "code",
      "metadata": {
        "id": "dfCBSoVpWpxb"
      },
      "source": [
        "from tensorflow import keras\n",
        "model= keras.Sequential()\n",
        "model.add(keras.layers.LSTM(8, input_shape=(100,500)))\n",
        "model.add(keras.layers.Dense(1, activation='sigmoid'))"
      ],
      "execution_count": 14,
      "outputs": []
    },
    {
      "cell_type": "code",
      "metadata": {
        "id": "tPE9fuBfXTSb"
      },
      "source": [
        "train_oh=keras.utils.to_categorical(train_seq)"
      ],
      "execution_count": 15,
      "outputs": []
    },
    {
      "cell_type": "code",
      "metadata": {
        "colab": {
          "base_uri": "https://localhost:8080/"
        },
        "id": "bFdbPfrkXwSh",
        "outputId": "559552a6-5661-4e9e-a6e3-d174380137d9"
      },
      "source": [
        "print(train_oh.shape)"
      ],
      "execution_count": 16,
      "outputs": [
        {
          "output_type": "stream",
          "name": "stdout",
          "text": [
            "(20000, 100, 500)\n"
          ]
        }
      ]
    },
    {
      "cell_type": "code",
      "metadata": {
        "colab": {
          "base_uri": "https://localhost:8080/"
        },
        "id": "cumOSsixf6To",
        "outputId": "13d9397e-82fa-4c73-8f8e-b09a89b4f49b"
      },
      "source": [
        "print(np.sum(train_oh[0][0]))"
      ],
      "execution_count": 17,
      "outputs": [
        {
          "output_type": "stream",
          "name": "stdout",
          "text": [
            "1.0\n"
          ]
        }
      ]
    },
    {
      "cell_type": "code",
      "metadata": {
        "id": "JLduJ5mxf-Vc"
      },
      "source": [
        "val_oh=keras.utils.to_categorical(val_seq)"
      ],
      "execution_count": 20,
      "outputs": []
    },
    {
      "cell_type": "code",
      "metadata": {
        "colab": {
          "base_uri": "https://localhost:8080/"
        },
        "id": "EPv8D5LJgFaj",
        "outputId": "64dbb9fe-37fd-492c-94e9-c36ca6839fa3"
      },
      "source": [
        "model.summary()"
      ],
      "execution_count": 21,
      "outputs": [
        {
          "output_type": "stream",
          "name": "stdout",
          "text": [
            "Model: \"sequential_1\"\n",
            "_________________________________________________________________\n",
            " Layer (type)                Output Shape              Param #   \n",
            "=================================================================\n",
            " lstm (LSTM)                 (None, 8)                 16288     \n",
            "                                                                 \n",
            " dense (Dense)               (None, 1)                 9         \n",
            "                                                                 \n",
            "=================================================================\n",
            "Total params: 16,297\n",
            "Trainable params: 16,297\n",
            "Non-trainable params: 0\n",
            "_________________________________________________________________\n"
          ]
        }
      ]
    },
    {
      "cell_type": "code",
      "metadata": {
        "colab": {
          "base_uri": "https://localhost:8080/"
        },
        "id": "eaut4qZugNde",
        "outputId": "61979b77-acf2-4c25-b2da-521ab290400d"
      },
      "source": [
        "model.compile(optimizer='adam', loss='binary_crossentropy', metrics=['accuracy'])\n",
        "checkpoint=keras.callbacks.ModelCheckpoint('best_model.h5', save_best_only=True)\n",
        "earlystop=keras.callbacks.EarlyStopping(patience=3, restore_best_weights=True)\n",
        "history= model.fit(train_oh, train_target, epochs=100, batch_size=64, validation_data=(val_oh, val_target), callbacks=[checkpoint, earlystop])"
      ],
      "execution_count": 25,
      "outputs": [
        {
          "output_type": "stream",
          "name": "stdout",
          "text": [
            "Epoch 1/100\n",
            "313/313 [==============================] - 28s 81ms/step - loss: 0.6055 - accuracy: 0.6607 - val_loss: 0.4891 - val_accuracy: 0.7690\n",
            "Epoch 2/100\n",
            "313/313 [==============================] - 23s 73ms/step - loss: 0.4572 - accuracy: 0.7900 - val_loss: 0.4423 - val_accuracy: 0.7922\n",
            "Epoch 3/100\n",
            "313/313 [==============================] - 23s 73ms/step - loss: 0.4293 - accuracy: 0.8019 - val_loss: 0.4518 - val_accuracy: 0.7902\n",
            "Epoch 4/100\n",
            "313/313 [==============================] - 23s 73ms/step - loss: 0.4163 - accuracy: 0.8087 - val_loss: 0.4300 - val_accuracy: 0.8002\n",
            "Epoch 5/100\n",
            "313/313 [==============================] - 24s 76ms/step - loss: 0.4103 - accuracy: 0.8095 - val_loss: 0.4253 - val_accuracy: 0.8054\n",
            "Epoch 6/100\n",
            "313/313 [==============================] - 24s 77ms/step - loss: 0.4027 - accuracy: 0.8133 - val_loss: 0.4260 - val_accuracy: 0.8044\n",
            "Epoch 7/100\n",
            "313/313 [==============================] - 24s 78ms/step - loss: 0.3973 - accuracy: 0.8176 - val_loss: 0.4223 - val_accuracy: 0.8060\n",
            "Epoch 8/100\n",
            "313/313 [==============================] - 24s 77ms/step - loss: 0.3975 - accuracy: 0.8170 - val_loss: 0.4316 - val_accuracy: 0.7934\n",
            "Epoch 9/100\n",
            "313/313 [==============================] - 24s 77ms/step - loss: 0.3923 - accuracy: 0.8198 - val_loss: 0.4269 - val_accuracy: 0.7998\n",
            "Epoch 10/100\n",
            "313/313 [==============================] - 24s 77ms/step - loss: 0.3899 - accuracy: 0.8199 - val_loss: 0.4219 - val_accuracy: 0.8010\n",
            "Epoch 11/100\n",
            "313/313 [==============================] - 24s 77ms/step - loss: 0.3837 - accuracy: 0.8239 - val_loss: 0.4245 - val_accuracy: 0.8074\n",
            "Epoch 12/100\n",
            "313/313 [==============================] - 24s 78ms/step - loss: 0.3817 - accuracy: 0.8252 - val_loss: 0.4239 - val_accuracy: 0.8034\n",
            "Epoch 13/100\n",
            "313/313 [==============================] - 24s 77ms/step - loss: 0.3782 - accuracy: 0.8263 - val_loss: 0.4238 - val_accuracy: 0.8060\n"
          ]
        }
      ]
    },
    {
      "cell_type": "code",
      "metadata": {
        "colab": {
          "base_uri": "https://localhost:8080/",
          "height": 278
        },
        "id": "gqcjzPrsg6Y5",
        "outputId": "c04ed308-8914-48d4-d735-1e10e682249a"
      },
      "source": [
        "plt.plot(history.history['loss'])\n",
        "plt.plot(history.history['val_loss'])\n",
        "plt.xlabel('epoch')\n",
        "plt.ylabel('loss')\n",
        "plt.legend(['train','val'])\n",
        "plt.show()"
      ],
      "execution_count": 26,
      "outputs": [
        {
          "output_type": "display_data",
          "data": {
            "image/png": "[encoded data removed]",
            "text/plain": [
              "<Figure size 432x288 with 1 Axes>"
            ]
          },
          "metadata": {
            "needs_background": "light"
          }
        }
      ]
    },
    {
      "cell_type": "code",
      "metadata": {
        "id": "vUagzG2miACL"
      },
      "source": [
        "model2=keras.Sequential()\n",
        "model2.add(keras.layers.Embedding(500,16, input_length=100))\n",
        "model2.add(keras.layers.GRU(8))\n",
        "model2.add(keras.layers.Dense(1, activation='sigmoid'))"
      ],
      "execution_count": 27,
      "outputs": []
    },
    {
      "cell_type": "code",
      "metadata": {
        "colab": {
          "base_uri": "https://localhost:8080/"
        },
        "id": "X_ubIa2GiYFL",
        "outputId": "c7fad193-b8c7-4c9a-90b4-f35d80c413ad"
      },
      "source": [
        "model2.compile(optimizer='adam', loss='binary_crossentropy', metrics=['accuracy'])\n",
        "checkpoint=keras.callbacks.ModelCheckpoint('best_model.h5', save_best_only=True)\n",
        "earlystop=keras.callbacks.EarlyStopping(patience=3, restore_best_weights=True)\n",
        "history= model.fit(train_oh, train_target, epochs=100, batch_size=64, validation_data=(val_oh, val_target), callbacks=[checkpoint, earlystop])"
      ],
      "execution_count": 28,
      "outputs": [
        {
          "output_type": "stream",
          "name": "stdout",
          "text": [
            "Epoch 1/100\n",
            "313/313 [==============================] - 24s 77ms/step - loss: 0.3857 - accuracy: 0.8237 - val_loss: 0.4208 - val_accuracy: 0.8074\n",
            "Epoch 2/100\n",
            "313/313 [==============================] - 24s 77ms/step - loss: 0.3826 - accuracy: 0.8246 - val_loss: 0.4343 - val_accuracy: 0.8004\n",
            "Epoch 3/100\n",
            "313/313 [==============================] - 24s 76ms/step - loss: 0.3792 - accuracy: 0.8256 - val_loss: 0.4277 - val_accuracy: 0.8070\n",
            "Epoch 4/100\n",
            "313/313 [==============================] - 24s 76ms/step - loss: 0.3757 - accuracy: 0.8277 - val_loss: 0.4252 - val_accuracy: 0.8044\n"
          ]
        }
      ]
    },
    {
      "cell_type": "code",
      "metadata": {
        "colab": {
          "base_uri": "https://localhost:8080/",
          "height": 278
        },
        "id": "dzUBNzu5ikLH",
        "outputId": "d8f59ec7-2521-440e-c048-c3579f6401a7"
      },
      "source": [
        "plt.plot(history.history['loss'])\n",
        "plt.plot(history.history['val_loss'])\n",
        "plt.xlabel('epoch')\n",
        "plt.ylabel('loss')\n",
        "plt.legend(['train','val'])\n",
        "plt.show()"
      ],
      "execution_count": 29,
      "outputs": [
        {
          "output_type": "display_data",
          "data": {
            "image/png": "[encoded data removed]",
            "text/plain": [
              "<Figure size 432x288 with 1 Axes>"
            ]
          },
          "metadata": {
            "needs_background": "light"
          }
        }
      ]
    },
    {
      "cell_type": "code",
      "metadata": {
        "id": "irNXVpgvi9TS"
      },
      "source": [
        ""
      ],
      "execution_count": null,
      "outputs": []
    }
  ]
}