{
  "nbformat": 4,
  "nbformat_minor": 0,
  "metadata": {
    "colab": {
      "name": "20211103_이재관.ipynb",
      "provenance": [],
      "collapsed_sections": [],
      "authorship_tag": "ABX9TyNB32iqVV+ftmTaRmLhmGJ0",
      "include_colab_link": true
    },
    "kernelspec": {
      "name": "python3",
      "display_name": "Python 3"
    },
    "language_info": {
      "name": "python"
    }
  },
  "cells": [
    {
      "cell_type": "markdown",
      "metadata": {
        "id": "view-in-github",
        "colab_type": "text"
      },
      "source": [
        "<a href=\"https://colab.research.google.com/github/JamesLeeeeeee/ecademy/blob/master/20211103_%EC%9D%B4%EC%9E%AC%EA%B4%80.ipynb\" target=\"_parent\"><img src=\"https://colab.research.google.com/assets/colab-badge.svg\" alt=\"Open In Colab\"/></a>"
      ]
    },
    {
      "cell_type": "code",
      "metadata": {
        "id": "JE7mM29DJ31c"
      },
      "source": [
        "import csv\n",
        "import matplotlib.pyplot as plt\n",
        "f= open('seoul.csv')\n",
        "data= csv.reader(f)\n",
        "next(data)\n",
        "\n",
        "high=[] #최고 기온 값을 저장할 리스트 생성\n",
        "low=[] #최저 기온 값을 저장할 리스트 생성\n",
        "\n",
        "for row in data:\n",
        "  if row[-1] !=\"\" and row[-2] !=\"\": #최고기온이 비어있을 경우 제외\n",
        "    date=row[0].split('-') # '-'를 제외한 날짜 값 저장\n",
        "    if date[0]>='1980'  and (date[1]+date[2]) == '1225' : #1980년대 이후 크리스마스 날짜 설정\n",
        "      high.append(float(row[-1]))  #최고 기온을 high 리스트에 저장\n",
        "      low.append(float(row[-2])) #최저 기온을 low 리스트에 저장\n",
        "\n",
        "plt.rc('font', family='Malgun Gothic') #맑은 고딕\n",
        "plt.rcParams['axes.unicode_minus'] = False #마이너스 기호 깨짐 방지\n",
        "plt.title('1980년 이후 매년 크리스마스 기온 변화 그래프') #제목 설정\n",
        "plt.plot(high, 'hotpink', label='high') # high 리스트에 저장된 값을 hotpink색으로 그리고 레이블을 표시\n",
        "plt.plot(low, 'skyblue', label='low') # low 리스트에 저장된 값을 skyblue색으로 그리고 레이블을 표시\n",
        "plt.legend() #범례 표시\n",
        "plt.show() #그래프나타내기\n",
        "\n",
        "f.close()"
      ],
      "execution_count": null,
      "outputs": []
    },
    {
      "cell_type": "code",
      "metadata": {
        "colab": {
          "base_uri": "https://localhost:8080/",
          "height": 265
        },
        "id": "o9LS2pqARswT",
        "outputId": "d8e4a32c-930f-4c00-9ce2-0727aebb0539"
      },
      "source": [
        "#hist()\n",
        "#히스토그램은 자료의 분포 상태를 직사각형 모양의 막대 그래프로 나타낸 것으로\n",
        "#데이터의 빈도에 따라 높이가 결정 됩니다.\n",
        "\n",
        "import matplotlib.pyplot as plt\n",
        "plt.hist([1,1,1,2,2,2,3,4,5,6,7,7,7,8,8,9])\n",
        "plt.show()"
      ],
      "execution_count": 1,
      "outputs": [
        {
          "output_type": "display_data",
          "data": {
            "image/png": "[encoded data removed]",
            "text/plain": [
              "<Figure size 432x288 with 1 Axes>"
            ]
          },
          "metadata": {
            "needs_background": "light"
          }
        }
      ]
    },
    {
      "cell_type": "code",
      "metadata": {
        "colab": {
          "base_uri": "https://localhost:8080/"
        },
        "id": "eR_Ps30JWC0D",
        "outputId": "2a44b0b8-7e9d-40f6-c0fe-f3089cd2f339"
      },
      "source": [
        "import random\n",
        "#randint(a,b) a이상 b이하의 정수 중 하나의 숫자를 무작위로 선택합니다.\n",
        "print(random.randint(1,6))"
      ],
      "execution_count": 6,
      "outputs": [
        {
          "output_type": "stream",
          "name": "stdout",
          "text": [
            "6\n"
          ]
        }
      ]
    },
    {
      "cell_type": "code",
      "metadata": {
        "colab": {
          "base_uri": "https://localhost:8080/",
          "height": 317
        },
        "id": "Wy10lmXWYwqG",
        "outputId": "e5a4eb33-0201-468a-bfce-cd88cc40ab73"
      },
      "source": [
        "import random\n",
        "dice=[]\n",
        "for i in range(80):\n",
        "  dice.append(random.randint(1,6))\n",
        "\n",
        "import matplotlib.pyplot as plt\n",
        "plt.hist(dice, bins=12)\n",
        "\n",
        "plt.xlabel('dice')\n",
        "plt.ylabel('count')\n",
        "plt.show()\n",
        "print(dice)"
      ],
      "execution_count": 25,
      "outputs": [
        {
          "output_type": "display_data",
          "data": {
            "image/png": "[encoded data removed]",
            "text/plain": [
              "<Figure size 432x288 with 1 Axes>"
            ]
          },
          "metadata": {
            "needs_background": "light"
          }
        },
        {
          "output_type": "stream",
          "name": "stdout",
          "text": [
            "[6, 6, 6, 6, 1, 5, 2, 5, 3, 6, 3, 1, 4, 6, 6, 3, 5, 3, 5, 1, 2, 3, 3, 6, 2, 6, 6, 1, 2, 1, 4, 1, 4, 4, 4, 2, 2, 3, 1, 5, 5, 6, 6, 3, 5, 5, 6, 6, 1, 3, 1, 1, 4, 4, 5, 4, 5, 3, 1, 5, 4, 5, 1, 2, 6, 2, 6, 1, 1, 2, 2, 5, 5, 5, 1, 4, 6, 5, 5, 2]\n"
          ]
        }
      ]
    },
    {
      "cell_type": "code",
      "metadata": {
        "colab": {
          "base_uri": "https://localhost:8080/",
          "height": 283
        },
        "id": "157q2tV2aBGq",
        "outputId": "63a155ff-92e1-4745-e65f-bd124000719d"
      },
      "source": [
        "# 1907년 부터 2018년 까지 수집된 서울의 기온 데이터를 히스토그램으로 표시하시오.\n",
        "#색은 빨간색, 구간은 100개로 나누시오.\n",
        "from google.colab import drive\n",
        "\n",
        "drive.mount('/content/gdrive')\n",
        "import csv\n",
        "\n",
        "f=open('/content/gdrive/MyDrive/seoul.csv',encoding='cp949')\n",
        "data=csv.reader(f)\n",
        "header=next(data)\n",
        "high=[] #최고 기온 값을 저장할 리스트 생성\n",
        "low=[] #최저 기온 값을 저장할 리스트 생성\n",
        "mean=[]\n",
        "\n",
        "for row in data:\n",
        "  if row[-1] !=\"\" and row[-2] !=\"\": #최고기온이 비어있을 경우 제외\n",
        "    date=row[0].split('-') # '-'를 제외한 날짜 값 저장\n",
        "    if date[1]=='08': #8월인 경우만\n",
        "      high.append(float(row[-1]))  #최고 기온을 high 리스트에 저장\n",
        "      low.append(float(row[-2])) #최저 기온을 low 리스트에 저장\n",
        "      mean.append(float(row[-3]))#평균기온을 mean리스트에 저장\n",
        "\n",
        "# plt.rc('font', family='Malgun Gothic') #맑은 고딕\n",
        "# plt.rcParams['axes.unicode_minus'] = False #마이너스 기호 깨짐 방지\n",
        "# plt.title('1907년부터 2018년까지 수집된 8월의 서울 그래프')\n",
        "\n",
        "plt.hist(high, bins=100, color='r') \n",
        "plt.show()\n",
        "f.close()"
      ],
      "execution_count": 71,
      "outputs": [
        {
          "output_type": "stream",
          "name": "stdout",
          "text": [
            "Drive already mounted at /content/gdrive; to attempt to forcibly remount, call drive.mount(\"/content/gdrive\", force_remount=True).\n"
          ]
        },
        {
          "output_type": "display_data",
          "data": {
            "image/png": "[encoded data removed]",
            "text/plain": [
              "<Figure size 432x288 with 1 Axes>"
            ]
          },
          "metadata": {
            "needs_background": "light"
          }
        }
      ]
    },
    {
      "cell_type": "code",
      "metadata": {
        "colab": {
          "base_uri": "https://localhost:8080/",
          "height": 283
        },
        "id": "1H60ul-deNfh",
        "outputId": "be3e96c6-8f6f-4651-d4bd-228c0800da95"
      },
      "source": [
        "# 1월과 8월의 데이터를 히스토그램으로 표시하시오\n",
        "# 범례 : 1월 ->Jan 8월 -> Aug\n",
        "#색상: 1월 blue, 8월 red\n",
        "#구간 100개\n",
        "\n",
        "from google.colab import drive\n",
        "\n",
        "drive.mount('/content/gdrive')\n",
        "import csv\n",
        "\n",
        "f=open('/content/gdrive/MyDrive/seoul.csv',encoding='cp949')\n",
        "data=csv.reader(f)\n",
        "header=next(data)\n",
        "Jan=[] #최고 기온 값을 저장할 리스트 생성\n",
        "Aug=[] #최저 기온 값을 저장할 리스트 생성\n",
        "\n",
        "\n",
        "for row in data:\n",
        "  if row[-1] !=\"\" and row[-2] !=\"\": #최고기온이 비어있을 경우 제외\n",
        "    date=row[0].split('-') # '-'를 제외한 날짜 값 저장\n",
        "    if date[1]=='01': #8월인 경우만\n",
        "      Jan.append(float(row[-1]))  #최고 기온을 high 리스트에 저장\n",
        "    elif date[1]=='08':\n",
        "      Aug.append(float(row[-1])) #최저 기온을 low 리스트에 저장\n",
        "\n",
        "\n",
        "# plt.rc('font', family='Malgun Gothic') #맑은 고딕\n",
        "# plt.rcParams['axes.unicode_minus'] = False #마이너스 기호 깨짐 방지\n",
        "# plt.title('1907년부터 2018년까지 수집된 8월의 서울 그래프')\n",
        "\n",
        "import matplotlib.pyplot as plt\n",
        "plt.hist(Aug, bins=100, color='r') #8월\n",
        "plt.hist(Jan, bins=100, color='b') #1월\n",
        "plt.legend(['Aug','Jan'])\n",
        "plt.show()\n",
        "f.close()"
      ],
      "execution_count": 70,
      "outputs": [
        {
          "output_type": "stream",
          "name": "stdout",
          "text": [
            "Drive already mounted at /content/gdrive; to attempt to forcibly remount, call drive.mount(\"/content/gdrive\", force_remount=True).\n"
          ]
        },
        {
          "output_type": "display_data",
          "data": {
            "image/png": "[encoded data removed]",
            "text/plain": [
              "<Figure size 432x288 with 1 Axes>"
            ]
          },
          "metadata": {
            "needs_background": "light"
          }
        }
      ]
    },
    {
      "cell_type": "code",
      "metadata": {
        "id": "eU7PqNu-iMwa"
      },
      "source": [
        "#상자그림(boxplot)\n",
        "#상자그림은 자료에서 얻어낸 \n",
        "#최댓값, 최솟값, 상위 1/4, 2/4(중앙), 3/4에 위치한 값을 보여주는 그래프 입니다."
      ],
      "execution_count": 61,
      "outputs": []
    },
    {
      "cell_type": "code",
      "metadata": {
        "colab": {
          "base_uri": "https://localhost:8080/",
          "height": 285
        },
        "id": "pH65gGDyjrwP",
        "outputId": "9e1f198c-232f-451b-cd80-9365972988d0"
      },
      "source": [
        "import matplotlib.pyplot as plt\n",
        "import random\n",
        "result= []\n",
        "\n",
        "for i in range(13):\n",
        "  result.append(random.randint(1,1000))\n",
        "\n",
        "print(sorted(result))\n",
        "plt.boxplot(result)\n",
        "plt.show()"
      ],
      "execution_count": 67,
      "outputs": [
        {
          "output_type": "stream",
          "name": "stdout",
          "text": [
            "[35, 127, 197, 362, 471, 529, 595, 688, 714, 835, 870, 959, 963]\n"
          ]
        },
        {
          "output_type": "display_data",
          "data": {
            "image/png": "[encoded data removed]",
            "text/plain": [
              "<Figure size 432x288 with 1 Axes>"
            ]
          },
          "metadata": {
            "needs_background": "light"
          }
        }
      ]
    },
    {
      "cell_type": "code",
      "metadata": {
        "colab": {
          "base_uri": "https://localhost:8080/",
          "height": 283
        },
        "id": "riGrJV2djxNn",
        "outputId": "1ef5cd5f-931c-4646-a1ef-bf1749d4ee0c"
      },
      "source": [
        "# 서울의 최고 기온 데이터를 상자 그림으로 표시하시오.\n",
        "from google.colab import drive\n",
        "\n",
        "drive.mount('/content/gdrive')\n",
        "import csv\n",
        "\n",
        "f=open('/content/gdrive/MyDrive/seoul.csv',encoding='cp949')\n",
        "data=csv.reader(f)\n",
        "header=next(data)\n",
        "high=[] #최고 기온 값을 저장할 리스트 생성\n",
        "\n",
        "\n",
        "for row in data:\n",
        "  if row[-1] !=\"\" and row[-2] !=\"\": #최고기온이 비어있을 경우 제외\n",
        "    date=row[0].split('-') # '-'를 제외한 날짜 값 저장\n",
        "    high.append(float(row[-1]))  #최고 기온을 high 리스트에 저장\n",
        "\n",
        "\n",
        "\n",
        "\n",
        "plt.boxplot(high) \n",
        "plt.show()\n",
        "f.close()"
      ],
      "execution_count": 72,
      "outputs": [
        {
          "output_type": "stream",
          "name": "stdout",
          "text": [
            "Drive already mounted at /content/gdrive; to attempt to forcibly remount, call drive.mount(\"/content/gdrive\", force_remount=True).\n"
          ]
        },
        {
          "output_type": "display_data",
          "data": {
            "image/png": "[encoded data removed]",
            "text/plain": [
              "<Figure size 432x288 with 1 Axes>"
            ]
          },
          "metadata": {
            "needs_background": "light"
          }
        }
      ]
    },
    {
      "cell_type": "code",
      "metadata": {
        "colab": {
          "base_uri": "https://localhost:8080/"
        },
        "id": "Z5ym8qlKpl8O",
        "outputId": "4d8e67ae-788f-41c8-a5ac-364e70f47799"
      },
      "source": [
        "!sudo apt-get install -y fonts-nanum\n",
        "!sudo fc-cache -fv\n",
        "!rm ~/.cache/matplotlib -rf"
      ],
      "execution_count": 3,
      "outputs": [
        {
          "output_type": "stream",
          "name": "stdout",
          "text": [
            "Reading package lists... Done\n",
            "Building dependency tree       \n",
            "Reading state information... Done\n",
            "fonts-nanum is already the newest version (20170925-1).\n",
            "0 upgraded, 0 newly installed, 0 to remove and 39 not upgraded.\n",
            "/usr/share/fonts: caching, new cache contents: 0 fonts, 1 dirs\n",
            "/usr/share/fonts/truetype: caching, new cache contents: 0 fonts, 3 dirs\n",
            "/usr/share/fonts/truetype/humor-sans: caching, new cache contents: 1 fonts, 0 dirs\n",
            "/usr/share/fonts/truetype/liberation: caching, new cache contents: 16 fonts, 0 dirs\n",
            "/usr/share/fonts/truetype/nanum: caching, new cache contents: 31 fonts, 0 dirs\n",
            "/usr/local/share/fonts: caching, new cache contents: 0 fonts, 0 dirs\n",
            "/root/.local/share/fonts: skipping, no such directory\n",
            "/root/.fonts: skipping, no such directory\n",
            "/var/cache/fontconfig: cleaning cache directory\n",
            "/root/.cache/fontconfig: not cleaning non-existent cache directory\n",
            "/root/.fontconfig: not cleaning non-existent cache directory\n",
            "fc-cache: succeeded\n"
          ]
        }
      ]
    },
    {
      "cell_type": "code",
      "metadata": {
        "colab": {
          "base_uri": "https://localhost:8080/"
        },
        "id": "FTxUAx85qFrU",
        "outputId": "79124970-2ca3-4ab1-bcae-62a100d6e3b7"
      },
      "source": [
        "!python -V"
      ],
      "execution_count": 75,
      "outputs": [
        {
          "output_type": "stream",
          "name": "stdout",
          "text": [
            "Python 3.7.12\n"
          ]
        }
      ]
    },
    {
      "cell_type": "code",
      "metadata": {
        "colab": {
          "base_uri": "https://localhost:8080/",
          "height": 284
        },
        "id": "0Unkg5kcn6x1",
        "outputId": "30d418c7-2bce-412d-d1b4-530ab89c5837"
      },
      "source": [
        "# 서울의 1월과 8월의 최고 기온 데이터를 상자 그림으로 표시하시오\n",
        "# 범례 : 1월 ->Jan 8월 -> Aug\n",
        "#색상: 1월 blue, 8월 red\n",
        "#구간 100개\n",
        "\n",
        "from google.colab import drive\n",
        "\n",
        "drive.mount('/content/gdrive')\n",
        "import csv\n",
        "\n",
        "f=open('/content/gdrive/MyDrive/seoul.csv',encoding='cp949')\n",
        "data=csv.reader(f)\n",
        "header=next(data)\n",
        "Jan=[] #1월 최고 기온 값을 저장할 리스트 생성\n",
        "Fab=[]\n",
        "Mar=[]\n",
        "May=[]\n",
        "Jun=[]\n",
        "Jul=[]\n",
        "Aug=[] #8월 최고 기온 값을 저장할 리스트 생성\n",
        "\n",
        "\n",
        "for row in data:\n",
        "  if row[-1] !=\"\" and row[-2] !=\"\": #최고기온이 비어있을 경우 제외\n",
        "    date=row[0].split('-') # '-'를 제외한 날짜 값 저장\n",
        "    if date[1]=='01': #8월인 경우만\n",
        "      Jan.append(float(row[-1]))  # 1월 최고 기온을 리스트에 저장\n",
        "    elif date[1]=='08':\n",
        "      Aug.append(float(row[-1])) #8월 최고 기온을 리스트에 저장\n",
        "\n",
        "\n",
        "# plt.rc('font', family='Malgun Gothic') #맑은 고딕\n",
        "# plt.rcParams['axes.unicode_minus'] = False #마이너스 기호 깨짐 방지\n",
        "# plt.title('1907년부터 2018년까지 수집된 8월의 서울 그래프')\n",
        "\n",
        "import matplotlib.pyplot as plt\n",
        "plt.boxplot(Aug) #8월\n",
        "plt.boxplot(Jan) #1월\n",
        "plt.legend(['Aug','Jan'])\n",
        "plt.show()\n",
        "f.close()"
      ],
      "execution_count": 73,
      "outputs": [
        {
          "output_type": "stream",
          "name": "stdout",
          "text": [
            "Drive already mounted at /content/gdrive; to attempt to forcibly remount, call drive.mount(\"/content/gdrive\", force_remount=True).\n"
          ]
        },
        {
          "output_type": "display_data",
          "data": {
            "image/png": "[encoded data removed]",
            "text/plain": [
              "<Figure size 432x288 with 1 Axes>"
            ]
          },
          "metadata": {
            "needs_background": "light"
          }
        }
      ]
    },
    {
      "cell_type": "code",
      "metadata": {
        "colab": {
          "base_uri": "https://localhost:8080/",
          "height": 425
        },
        "id": "bOGQwHpXo6iD",
        "outputId": "ff4f4a45-beb1-40a9-cc8d-ef4dbc560769"
      },
      "source": [
        "#서울의 최고 기온 데이터를 월별로 구분하여 상자 그림 으로 표현하시오.\n",
        "\n",
        "from google.colab import drive\n",
        "\n",
        "drive.mount('/content/gdrive')\n",
        "import csv\n",
        "\n",
        "f=open('/content/gdrive/MyDrive/seoul.csv',encoding='cp949')\n",
        "data=csv.reader(f)\n",
        "header=next(data)\n",
        "\n",
        "month=[[],[],[],[],[],[],[],[],[],[],[],[]]\n",
        "\n",
        "for row in data:\n",
        "  if row[-1] !=\"\" and row[-2] !=\"\": #최고기온이 비어있을 경우 제외\n",
        "    date=row[0].split('-') # '-'를 제외한 날짜 값 저장\n",
        "    for i in date[1]:\n",
        "      #월과 같은 번호의 인덱스에 월별 데이터저장( 1월 -> month[0])\n",
        "      month[int(date[1])-1].append(float(row[-1]))\n",
        "    \n",
        "\n",
        "import matplotlib.pyplot as plt\n",
        "plt.rc('font', family='NanumBarunGothic') #나눔바른고딕\n",
        "# plt.rc('font', family='Malgun Gothic') #맑은 고딕\n",
        "# plt.rcParams['axes.unicode_minus'] = False #마이너스 기호 깨짐 방지\n",
        "# plt.title('1907년부터 2018년까지 수집된 8월의 서울 그래프')\n",
        "\n",
        "\n",
        "plt.boxplot(month)\n",
        "\n",
        "plt.xlabel('월')\n",
        "plt.show()\n",
        "f.close()"
      ],
      "execution_count": 6,
      "outputs": [
        {
          "output_type": "stream",
          "name": "stdout",
          "text": [
            "Drive already mounted at /content/gdrive; to attempt to forcibly remount, call drive.mount(\"/content/gdrive\", force_remount=True).\n"
          ]
        },
        {
          "output_type": "stream",
          "name": "stderr",
          "text": [
            "/usr/local/lib/python3.7/dist-packages/numpy/core/_asarray.py:83: VisibleDeprecationWarning: Creating an ndarray from ragged nested sequences (which is a list-or-tuple of lists-or-tuples-or ndarrays with different lengths or shapes) is deprecated. If you meant to do this, you must specify 'dtype=object' when creating the ndarray\n",
            "  return array(a, dtype, copy=False, order=order)\n",
            "/usr/local/lib/python3.7/dist-packages/matplotlib/backends/backend_agg.py:214: RuntimeWarning: Glyph 8722 missing from current font.\n",
            "  font.set_text(s, 0.0, flags=flags)\n",
            "/usr/local/lib/python3.7/dist-packages/matplotlib/backends/backend_agg.py:183: RuntimeWarning: Glyph 8722 missing from current font.\n",
            "  font.set_text(s, 0, flags=flags)\n"
          ]
        },
        {
          "output_type": "display_data",
          "data": {
            "image/png": "[encoded data removed]",
            "text/plain": [
              "<Figure size 432x288 with 1 Axes>"
            ]
          },
          "metadata": {
            "needs_background": "light"
          }
        }
      ]
    },
    {
      "cell_type": "code",
      "metadata": {
        "colab": {
          "base_uri": "https://localhost:8080/",
          "height": 428
        },
        "id": "93EMB2mWugEx",
        "outputId": "85a13b45-04c8-4b06-fbf5-d3a50e70ac0b"
      },
      "source": [
        "# 8월 일별 기온 데이터를 상자 그림으로 표시하시오.\n",
        "from google.colab import drive\n",
        "\n",
        "drive.mount('/content/gdrive')\n",
        "import csv\n",
        "\n",
        "f=open('/content/gdrive/MyDrive/seoul.csv',encoding='cp949')\n",
        "data=csv.reader(f)\n",
        "header=next(data)\n",
        "\n",
        "day=[]\n",
        "for i in range(31):\n",
        "  day.append([])\n",
        "for row in data:\n",
        "  if row[-1] !=\"\" and row[-2] !=\"\": #최고기온이 비어있을 경우 제외\n",
        "    date=row[0].split('-') # '-'를 제외한 날짜 값 저장\n",
        "    if date[1]=='08':\n",
        "      for i in date[2]:\n",
        "        #일과 같은 번호의 인덱스에 일별 데이터저장( 1일 -> month[0])\n",
        "        day[int(date[2])-1].append(float(row[-1]))\n",
        "    \n",
        "\n",
        "import matplotlib.pyplot as plt\n",
        "plt.rc('font', family='NanumBarunGothic') #나눔바른고딕\n",
        "# plt.rc('font', family='Malgun Gothic') #맑은 고딕\n",
        "# plt.rcParams['axes.unicode_minus'] = False #마이너스 기호 깨짐 방지\n",
        "# plt.title('1907년부터 2018년까지 수집된 8월의 서울 그래프')\n",
        "plt.figure(figsize=(12,4), dpi=100)\n",
        "plt.style.use('ggplot') #그래프 스타일 지정\n",
        "plt.boxplot(day, showfliers=False) #아웃라이어 값 생략\n",
        "plt.title('서울 8월의 일별 최고기온 상자그림')\n",
        "plt.xlabel('일')\n",
        "plt.show()\n",
        "f.close()"
      ],
      "execution_count": 30,
      "outputs": [
        {
          "output_type": "stream",
          "name": "stdout",
          "text": [
            "Drive already mounted at /content/gdrive; to attempt to forcibly remount, call drive.mount(\"/content/gdrive\", force_remount=True).\n"
          ]
        },
        {
          "output_type": "display_data",
          "data": {
            "image/png": "[encoded data removed]",
            "text/plain": [
              "<Figure size 1200x400 with 1 Axes>"
            ]
          },
          "metadata": {}
        }
      ]
    },
    {
      "cell_type": "code",
      "metadata": {
        "colab": {
          "base_uri": "https://localhost:8080/"
        },
        "id": "dJkm3jm3yVHT",
        "outputId": "2a533456-3481-442e-f544-17734f1f9460"
      },
      "source": [
        "from google.colab import drive\n",
        "\n",
        "drive.mount('/content/gdrive')\n",
        "import csv\n",
        "\n",
        "f=open('/content/gdrive/MyDrive/age.csv',encoding='cp949')\n",
        "data=csv.reader(f)\n",
        "header=next(data)\n",
        "print(header)"
      ],
      "execution_count": 32,
      "outputs": [
        {
          "output_type": "stream",
          "name": "stdout",
          "text": [
            "Drive already mounted at /content/gdrive; to attempt to forcibly remount, call drive.mount(\"/content/gdrive\", force_remount=True).\n",
            "['행정구역', '총인구수', '연령구간인구수', '0세', '1세', '2세', '3세', '4세', '5세', '6세', '7세', '8세', '9세', '10세', '11세', '12세', '13세', '14세', '15세', '16세', '17세', '18세', '19세', '20세', '21세', '22세', '23세', '24세', '25세', '26세', '27세', '28세', '29세', '30세', '31세', '32세', '33세', '34세', '35세', '36세', '37세', '38세', '39세', '40세', '41세', '42세', '43세', '44세', '45세', '46세', '47세', '48세', '49세', '50세', '51세', '52세', '53세', '54세', '55세', '56세', '57세', '58세', '59세', '60세', '61세', '62세', '63세', '64세', '65세', '66세', '67세', '68세', '69세', '70세', '71세', '72세', '73세', '74세', '75세', '76세', '77세', '78세', '79세', '80세', '81세', '82세', '83세', '84세', '85세', '86세', '87세', '88세', '89세', '90세', '91세', '92세', '93세', '94세', '95세', '96세', '97세', '98세', '99세', '100세 이상']\n"
          ]
        }
      ]
    },
    {
      "cell_type": "code",
      "metadata": {
        "id": "nF6xpzzo8DOi"
      },
      "source": [
        ""
      ],
      "execution_count": null,
      "outputs": []
    }
  ]
}