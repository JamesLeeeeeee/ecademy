{
  "nbformat": 4,
  "nbformat_minor": 0,
  "metadata": {
    "colab": {
      "name": "20211103_이재관.ipynb",
      "provenance": [],
      "collapsed_sections": [],
      "authorship_tag": "ABX9TyNRqCK2Zz2evU+f0JassT98",
      "include_colab_link": true
    },
    "kernelspec": {
      "name": "python3",
      "display_name": "Python 3"
    },
    "language_info": {
      "name": "python"
    }
  },
  "cells": [
    {
      "cell_type": "markdown",
      "metadata": {
        "id": "view-in-github",
        "colab_type": "text"
      },
      "source": [
        "<a href=\"https://colab.research.google.com/github/JamesLeeeeeee/ecademy/blob/master/20211103_%EC%9D%B4%EC%9E%AC%EA%B4%80.ipynb\" target=\"_parent\"><img src=\"https://colab.research.google.com/assets/colab-badge.svg\" alt=\"Open In Colab\"/></a>"
      ]
    },
    {
      "cell_type": "code",
      "metadata": {
        "id": "JE7mM29DJ31c"
      },
      "source": [
        "import csv\n",
        "import matplotlib.pyplot as plt\n",
        "f= open('seoul.csv')\n",
        "data= csv.reader(f)\n",
        "next(data)\n",
        "\n",
        "high=[] #최고 기온 값을 저장할 리스트 생성\n",
        "low=[] #최저 기온 값을 저장할 리스트 생성\n",
        "\n",
        "for row in data:\n",
        "  if row[-1] !=\"\" and row[-2] !=\"\": #최고기온이 비어있을 경우 제외\n",
        "    date=row[0].split('-') # '-'를 제외한 날짜 값 저장\n",
        "    if date[0]>='1980'  and (date[1]+date[2]) == '1225' : #1980년대 이후 크리스마스 날짜 설정\n",
        "      high.append(float(row[-1]))  #최고 기온을 high 리스트에 저장\n",
        "      low.append(float(row[-2])) #최저 기온을 low 리스트에 저장\n",
        "\n",
        "plt.rc('font', family='Malgun Gothic') #맑은 고딕\n",
        "plt.rcParams['axes.unicode_minus'] = False #마이너스 기호 깨짐 방지\n",
        "plt.title('1980년 이후 매년 크리스마스 기온 변화 그래프') #제목 설정\n",
        "plt.plot(high, 'hotpink', label='high') # high 리스트에 저장된 값을 hotpink색으로 그리고 레이블을 표시\n",
        "plt.plot(low, 'skyblue', label='low') # low 리스트에 저장된 값을 skyblue색으로 그리고 레이블을 표시\n",
        "plt.legend() #범례 표시\n",
        "plt.show() #그래프나타내기\n",
        "\n",
        "f.close()"
      ],
      "execution_count": null,
      "outputs": []
    },
    {
      "cell_type": "code",
      "metadata": {
        "colab": {
          "base_uri": "https://localhost:8080/",
          "height": 265
        },
        "id": "o9LS2pqARswT",
        "outputId": "d8e4a32c-930f-4c00-9ce2-0727aebb0539"
      },
      "source": [
        "#hist()\n",
        "#히스토그램은 자료의 분포 상태를 직사각형 모양의 막대 그래프로 나타낸 것으로\n",
        "#데이터의 빈도에 따라 높이가 결정 됩니다.\n",
        "\n",
        "import matplotlib.pyplot as plt\n",
        "plt.hist([1,1,1,2,2,2,3,4,5,6,7,7,7,8,8,9])\n",
        "plt.show()"
      ],
      "execution_count": null,
      "outputs": [
        {
          "output_type": "display_data",
          "data": {
            "image/png": "[encoded data removed]",
            "text/plain": [
              "<Figure size 432x288 with 1 Axes>"
            ]
          },
          "metadata": {
            "needs_background": "light"
          }
        }
      ]
    },
    {
      "cell_type": "code",
      "metadata": {
        "colab": {
          "base_uri": "https://localhost:8080/"
        },
        "id": "eR_Ps30JWC0D",
        "outputId": "2a44b0b8-7e9d-40f6-c0fe-f3089cd2f339"
      },
      "source": [
        "import random\n",
        "#randint(a,b) a이상 b이하의 정수 중 하나의 숫자를 무작위로 선택합니다.\n",
        "print(random.randint(1,6))"
      ],
      "execution_count": null,
      "outputs": [
        {
          "output_type": "stream",
          "name": "stdout",
          "text": [
            "6\n"
          ]
        }
      ]
    },
    {
      "cell_type": "code",
      "metadata": {
        "colab": {
          "base_uri": "https://localhost:8080/",
          "height": 317
        },
        "id": "Wy10lmXWYwqG",
        "outputId": "e5a4eb33-0201-468a-bfce-cd88cc40ab73"
      },
      "source": [
        "import random\n",
        "dice=[]\n",
        "for i in range(80):\n",
        "  dice.append(random.randint(1,6))\n",
        "\n",
        "import matplotlib.pyplot as plt\n",
        "plt.hist(dice, bins=12)\n",
        "\n",
        "plt.xlabel('dice')\n",
        "plt.ylabel('count')\n",
        "plt.show()\n",
        "print(dice)"
      ],
      "execution_count": null,
      "outputs": [
        {
          "output_type": "display_data",
          "data": {
            "image/png": "[encoded data removed]",
            "text/plain": [
              "<Figure size 432x288 with 1 Axes>"
            ]
          },
          "metadata": {
            "needs_background": "light"
          }
        },
        {
          "output_type": "stream",
          "name": "stdout",
          "text": [
            "[6, 6, 6, 6, 1, 5, 2, 5, 3, 6, 3, 1, 4, 6, 6, 3, 5, 3, 5, 1, 2, 3, 3, 6, 2, 6, 6, 1, 2, 1, 4, 1, 4, 4, 4, 2, 2, 3, 1, 5, 5, 6, 6, 3, 5, 5, 6, 6, 1, 3, 1, 1, 4, 4, 5, 4, 5, 3, 1, 5, 4, 5, 1, 2, 6, 2, 6, 1, 1, 2, 2, 5, 5, 5, 1, 4, 6, 5, 5, 2]\n"
          ]
        }
      ]
    },
    {
      "cell_type": "code",
      "metadata": {
        "colab": {
          "base_uri": "https://localhost:8080/",
          "height": 283
        },
        "id": "157q2tV2aBGq",
        "outputId": "63a155ff-92e1-4745-e65f-bd124000719d"
      },
      "source": [
        "# 1907년 부터 2018년 까지 수집된 서울의 기온 데이터를 히스토그램으로 표시하시오.\n",
        "#색은 빨간색, 구간은 100개로 나누시오.\n",
        "from google.colab import drive\n",
        "\n",
        "drive.mount('/content/gdrive')\n",
        "import csv\n",
        "\n",
        "f=open('/content/gdrive/MyDrive/seoul.csv',encoding='cp949')\n",
        "data=csv.reader(f)\n",
        "header=next(data)\n",
        "high=[] #최고 기온 값을 저장할 리스트 생성\n",
        "low=[] #최저 기온 값을 저장할 리스트 생성\n",
        "mean=[]\n",
        "\n",
        "for row in data:\n",
        "  if row[-1] !=\"\" and row[-2] !=\"\": #최고기온이 비어있을 경우 제외\n",
        "    date=row[0].split('-') # '-'를 제외한 날짜 값 저장\n",
        "    if date[1]=='08': #8월인 경우만\n",
        "      high.append(float(row[-1]))  #최고 기온을 high 리스트에 저장\n",
        "      low.append(float(row[-2])) #최저 기온을 low 리스트에 저장\n",
        "      mean.append(float(row[-3]))#평균기온을 mean리스트에 저장\n",
        "\n",
        "# plt.rc('font', family='Malgun Gothic') #맑은 고딕\n",
        "# plt.rcParams['axes.unicode_minus'] = False #마이너스 기호 깨짐 방지\n",
        "# plt.title('1907년부터 2018년까지 수집된 8월의 서울 그래프')\n",
        "\n",
        "plt.hist(high, bins=100, color='r') \n",
        "plt.show()\n",
        "f.close()"
      ],
      "execution_count": null,
      "outputs": [
        {
          "output_type": "stream",
          "name": "stdout",
          "text": [
            "Drive already mounted at /content/gdrive; to attempt to forcibly remount, call drive.mount(\"/content/gdrive\", force_remount=True).\n"
          ]
        },
        {
          "output_type": "display_data",
          "data": {
            "image/png": "[encoded data removed]",
            "text/plain": [
              "<Figure size 432x288 with 1 Axes>"
            ]
          },
          "metadata": {
            "needs_background": "light"
          }
        }
      ]
    },
    {
      "cell_type": "code",
      "metadata": {
        "colab": {
          "base_uri": "https://localhost:8080/",
          "height": 283
        },
        "id": "1H60ul-deNfh",
        "outputId": "be3e96c6-8f6f-4651-d4bd-228c0800da95"
      },
      "source": [
        "# 1월과 8월의 데이터를 히스토그램으로 표시하시오\n",
        "# 범례 : 1월 ->Jan 8월 -> Aug\n",
        "#색상: 1월 blue, 8월 red\n",
        "#구간 100개\n",
        "\n",
        "from google.colab import drive\n",
        "\n",
        "drive.mount('/content/gdrive')\n",
        "import csv\n",
        "\n",
        "f=open('/content/gdrive/MyDrive/seoul.csv',encoding='cp949')\n",
        "data=csv.reader(f)\n",
        "header=next(data)\n",
        "Jan=[] #최고 기온 값을 저장할 리스트 생성\n",
        "Aug=[] #최저 기온 값을 저장할 리스트 생성\n",
        "\n",
        "\n",
        "for row in data:\n",
        "  if row[-1] !=\"\" and row[-2] !=\"\": #최고기온이 비어있을 경우 제외\n",
        "    date=row[0].split('-') # '-'를 제외한 날짜 값 저장\n",
        "    if date[1]=='01': #8월인 경우만\n",
        "      Jan.append(float(row[-1]))  #최고 기온을 high 리스트에 저장\n",
        "    elif date[1]=='08':\n",
        "      Aug.append(float(row[-1])) #최저 기온을 low 리스트에 저장\n",
        "\n",
        "\n",
        "# plt.rc('font', family='Malgun Gothic') #맑은 고딕\n",
        "# plt.rcParams['axes.unicode_minus'] = False #마이너스 기호 깨짐 방지\n",
        "# plt.title('1907년부터 2018년까지 수집된 8월의 서울 그래프')\n",
        "\n",
        "import matplotlib.pyplot as plt\n",
        "plt.hist(Aug, bins=100, color='r') #8월\n",
        "plt.hist(Jan, bins=100, color='b') #1월\n",
        "plt.legend(['Aug','Jan'])\n",
        "plt.show()\n",
        "f.close()"
      ],
      "execution_count": null,
      "outputs": [
        {
          "output_type": "stream",
          "name": "stdout",
          "text": [
            "Drive already mounted at /content/gdrive; to attempt to forcibly remount, call drive.mount(\"/content/gdrive\", force_remount=True).\n"
          ]
        },
        {
          "output_type": "display_data",
          "data": {
            "image/png": "[encoded data removed]",
            "text/plain": [
              "<Figure size 432x288 with 1 Axes>"
            ]
          },
          "metadata": {
            "needs_background": "light"
          }
        }
      ]
    },
    {
      "cell_type": "code",
      "metadata": {
        "id": "eU7PqNu-iMwa"
      },
      "source": [
        "#상자그림(boxplot)\n",
        "#상자그림은 자료에서 얻어낸 \n",
        "#최댓값, 최솟값, 상위 1/4, 2/4(중앙), 3/4에 위치한 값을 보여주는 그래프 입니다."
      ],
      "execution_count": null,
      "outputs": []
    },
    {
      "cell_type": "code",
      "metadata": {
        "colab": {
          "base_uri": "https://localhost:8080/",
          "height": 285
        },
        "id": "pH65gGDyjrwP",
        "outputId": "9e1f198c-232f-451b-cd80-9365972988d0"
      },
      "source": [
        "import matplotlib.pyplot as plt\n",
        "import random\n",
        "result= []\n",
        "\n",
        "for i in range(13):\n",
        "  result.append(random.randint(1,1000))\n",
        "\n",
        "print(sorted(result))\n",
        "plt.boxplot(result)\n",
        "plt.show()"
      ],
      "execution_count": null,
      "outputs": [
        {
          "output_type": "stream",
          "name": "stdout",
          "text": [
            "[35, 127, 197, 362, 471, 529, 595, 688, 714, 835, 870, 959, 963]\n"
          ]
        },
        {
          "output_type": "display_data",
          "data": {
            "image/png": "[encoded data removed]",
            "text/plain": [
              "<Figure size 432x288 with 1 Axes>"
            ]
          },
          "metadata": {
            "needs_background": "light"
          }
        }
      ]
    },
    {
      "cell_type": "code",
      "metadata": {
        "colab": {
          "base_uri": "https://localhost:8080/",
          "height": 283
        },
        "id": "riGrJV2djxNn",
        "outputId": "1ef5cd5f-931c-4646-a1ef-bf1749d4ee0c"
      },
      "source": [
        "# 서울의 최고 기온 데이터를 상자 그림으로 표시하시오.\n",
        "from google.colab import drive\n",
        "\n",
        "drive.mount('/content/gdrive')\n",
        "import csv\n",
        "\n",
        "f=open('/content/gdrive/MyDrive/seoul.csv',encoding='cp949')\n",
        "data=csv.reader(f)\n",
        "header=next(data)\n",
        "high=[] #최고 기온 값을 저장할 리스트 생성\n",
        "\n",
        "\n",
        "for row in data:\n",
        "  if row[-1] !=\"\" and row[-2] !=\"\": #최고기온이 비어있을 경우 제외\n",
        "    date=row[0].split('-') # '-'를 제외한 날짜 값 저장\n",
        "    high.append(float(row[-1]))  #최고 기온을 high 리스트에 저장\n",
        "\n",
        "\n",
        "\n",
        "\n",
        "plt.boxplot(high) \n",
        "plt.show()\n",
        "f.close()"
      ],
      "execution_count": null,
      "outputs": [
        {
          "output_type": "stream",
          "name": "stdout",
          "text": [
            "Drive already mounted at /content/gdrive; to attempt to forcibly remount, call drive.mount(\"/content/gdrive\", force_remount=True).\n"
          ]
        },
        {
          "output_type": "display_data",
          "data": {
            "image/png": "[encoded data removed]",
            "text/plain": [
              "<Figure size 432x288 with 1 Axes>"
            ]
          },
          "metadata": {
            "needs_background": "light"
          }
        }
      ]
    },
    {
      "cell_type": "code",
      "metadata": {
        "colab": {
          "base_uri": "https://localhost:8080/"
        },
        "id": "Z5ym8qlKpl8O",
        "outputId": "4d8e67ae-788f-41c8-a5ac-364e70f47799"
      },
      "source": [
        "!sudo apt-get install -y fonts-nanum\n",
        "!sudo fc-cache -fv\n",
        "!rm ~/.cache/matplotlib -rf"
      ],
      "execution_count": null,
      "outputs": [
        {
          "output_type": "stream",
          "name": "stdout",
          "text": [
            "Reading package lists... Done\n",
            "Building dependency tree       \n",
            "Reading state information... Done\n",
            "fonts-nanum is already the newest version (20170925-1).\n",
            "0 upgraded, 0 newly installed, 0 to remove and 39 not upgraded.\n",
            "/usr/share/fonts: caching, new cache contents: 0 fonts, 1 dirs\n",
            "/usr/share/fonts/truetype: caching, new cache contents: 0 fonts, 3 dirs\n",
            "/usr/share/fonts/truetype/humor-sans: caching, new cache contents: 1 fonts, 0 dirs\n",
            "/usr/share/fonts/truetype/liberation: caching, new cache contents: 16 fonts, 0 dirs\n",
            "/usr/share/fonts/truetype/nanum: caching, new cache contents: 31 fonts, 0 dirs\n",
            "/usr/local/share/fonts: caching, new cache contents: 0 fonts, 0 dirs\n",
            "/root/.local/share/fonts: skipping, no such directory\n",
            "/root/.fonts: skipping, no such directory\n",
            "/var/cache/fontconfig: cleaning cache directory\n",
            "/root/.cache/fontconfig: not cleaning non-existent cache directory\n",
            "/root/.fontconfig: not cleaning non-existent cache directory\n",
            "fc-cache: succeeded\n"
          ]
        }
      ]
    },
    {
      "cell_type": "code",
      "metadata": {
        "colab": {
          "base_uri": "https://localhost:8080/"
        },
        "id": "FTxUAx85qFrU",
        "outputId": "79124970-2ca3-4ab1-bcae-62a100d6e3b7"
      },
      "source": [
        "!python -V"
      ],
      "execution_count": null,
      "outputs": [
        {
          "output_type": "stream",
          "name": "stdout",
          "text": [
            "Python 3.7.12\n"
          ]
        }
      ]
    },
    {
      "cell_type": "code",
      "metadata": {
        "colab": {
          "base_uri": "https://localhost:8080/",
          "height": 284
        },
        "id": "0Unkg5kcn6x1",
        "outputId": "30d418c7-2bce-412d-d1b4-530ab89c5837"
      },
      "source": [
        "# 서울의 1월과 8월의 최고 기온 데이터를 상자 그림으로 표시하시오\n",
        "# 범례 : 1월 ->Jan 8월 -> Aug\n",
        "#색상: 1월 blue, 8월 red\n",
        "#구간 100개\n",
        "\n",
        "from google.colab import drive\n",
        "\n",
        "drive.mount('/content/gdrive')\n",
        "import csv\n",
        "\n",
        "f=open('/content/gdrive/MyDrive/seoul.csv',encoding='cp949')\n",
        "data=csv.reader(f)\n",
        "header=next(data)\n",
        "Jan=[] #1월 최고 기온 값을 저장할 리스트 생성\n",
        "Fab=[]\n",
        "Mar=[]\n",
        "May=[]\n",
        "Jun=[]\n",
        "Jul=[]\n",
        "Aug=[] #8월 최고 기온 값을 저장할 리스트 생성\n",
        "\n",
        "\n",
        "for row in data:\n",
        "  if row[-1] !=\"\" and row[-2] !=\"\": #최고기온이 비어있을 경우 제외\n",
        "    date=row[0].split('-') # '-'를 제외한 날짜 값 저장\n",
        "    if date[1]=='01': #8월인 경우만\n",
        "      Jan.append(float(row[-1]))  # 1월 최고 기온을 리스트에 저장\n",
        "    elif date[1]=='08':\n",
        "      Aug.append(float(row[-1])) #8월 최고 기온을 리스트에 저장\n",
        "\n",
        "\n",
        "# plt.rc('font', family='Malgun Gothic') #맑은 고딕\n",
        "# plt.rcParams['axes.unicode_minus'] = False #마이너스 기호 깨짐 방지\n",
        "# plt.title('1907년부터 2018년까지 수집된 8월의 서울 그래프')\n",
        "\n",
        "import matplotlib.pyplot as plt\n",
        "plt.boxplot(Aug) #8월\n",
        "plt.boxplot(Jan) #1월\n",
        "plt.legend(['Aug','Jan'])\n",
        "plt.show()\n",
        "f.close()"
      ],
      "execution_count": null,
      "outputs": [
        {
          "output_type": "stream",
          "name": "stdout",
          "text": [
            "Drive already mounted at /content/gdrive; to attempt to forcibly remount, call drive.mount(\"/content/gdrive\", force_remount=True).\n"
          ]
        },
        {
          "output_type": "display_data",
          "data": {
            "image/png": "[encoded data removed]",
            "text/plain": [
              "<Figure size 432x288 with 1 Axes>"
            ]
          },
          "metadata": {
            "needs_background": "light"
          }
        }
      ]
    },
    {
      "cell_type": "code",
      "metadata": {
        "colab": {
          "base_uri": "https://localhost:8080/",
          "height": 425
        },
        "id": "bOGQwHpXo6iD",
        "outputId": "ff4f4a45-beb1-40a9-cc8d-ef4dbc560769"
      },
      "source": [
        "#서울의 최고 기온 데이터를 월별로 구분하여 상자 그림 으로 표현하시오.\n",
        "\n",
        "from google.colab import drive\n",
        "\n",
        "drive.mount('/content/gdrive')\n",
        "import csv\n",
        "\n",
        "f=open('/content/gdrive/MyDrive/seoul.csv',encoding='cp949')\n",
        "data=csv.reader(f)\n",
        "header=next(data)\n",
        "\n",
        "month=[[],[],[],[],[],[],[],[],[],[],[],[]]\n",
        "\n",
        "for row in data:\n",
        "  if row[-1] !=\"\" and row[-2] !=\"\": #최고기온이 비어있을 경우 제외\n",
        "    date=row[0].split('-') # '-'를 제외한 날짜 값 저장\n",
        "    for i in date[1]:\n",
        "      #월과 같은 번호의 인덱스에 월별 데이터저장( 1월 -> month[0])\n",
        "      month[int(date[1])-1].append(float(row[-1]))\n",
        "    \n",
        "\n",
        "import matplotlib.pyplot as plt\n",
        "plt.rc('font', family='NanumBarunGothic') #나눔바른고딕\n",
        "# plt.rc('font', family='Malgun Gothic') #맑은 고딕\n",
        "# plt.rcParams['axes.unicode_minus'] = False #마이너스 기호 깨짐 방지\n",
        "# plt.title('1907년부터 2018년까지 수집된 8월의 서울 그래프')\n",
        "\n",
        "\n",
        "plt.boxplot(month)\n",
        "\n",
        "plt.xlabel('월')\n",
        "plt.show()\n",
        "f.close()"
      ],
      "execution_count": null,
      "outputs": [
        {
          "output_type": "stream",
          "name": "stdout",
          "text": [
            "Drive already mounted at /content/gdrive; to attempt to forcibly remount, call drive.mount(\"/content/gdrive\", force_remount=True).\n"
          ]
        },
        {
          "output_type": "stream",
          "name": "stderr",
          "text": [
            "/usr/local/lib/python3.7/dist-packages/numpy/core/_asarray.py:83: VisibleDeprecationWarning: Creating an ndarray from ragged nested sequences (which is a list-or-tuple of lists-or-tuples-or ndarrays with different lengths or shapes) is deprecated. If you meant to do this, you must specify 'dtype=object' when creating the ndarray\n",
            "  return array(a, dtype, copy=False, order=order)\n",
            "/usr/local/lib/python3.7/dist-packages/matplotlib/backends/backend_agg.py:214: RuntimeWarning: Glyph 8722 missing from current font.\n",
            "  font.set_text(s, 0.0, flags=flags)\n",
            "/usr/local/lib/python3.7/dist-packages/matplotlib/backends/backend_agg.py:183: RuntimeWarning: Glyph 8722 missing from current font.\n",
            "  font.set_text(s, 0, flags=flags)\n"
          ]
        },
        {
          "output_type": "display_data",
          "data": {
            "image/png": "[encoded data removed]",
            "text/plain": [
              "<Figure size 432x288 with 1 Axes>"
            ]
          },
          "metadata": {
            "needs_background": "light"
          }
        }
      ]
    },
    {
      "cell_type": "code",
      "metadata": {
        "colab": {
          "base_uri": "https://localhost:8080/",
          "height": 428
        },
        "id": "93EMB2mWugEx",
        "outputId": "85a13b45-04c8-4b06-fbf5-d3a50e70ac0b"
      },
      "source": [
        "# 8월 일별 기온 데이터를 상자 그림으로 표시하시오.\n",
        "from google.colab import drive\n",
        "\n",
        "drive.mount('/content/gdrive')\n",
        "import csv\n",
        "\n",
        "f=open('/content/gdrive/MyDrive/seoul.csv',encoding='cp949')\n",
        "data=csv.reader(f)\n",
        "header=next(data)\n",
        "\n",
        "day=[]\n",
        "for i in range(31):\n",
        "  day.append([])\n",
        "for row in data:\n",
        "  if row[-1] !=\"\" and row[-2] !=\"\": #최고기온이 비어있을 경우 제외\n",
        "    date=row[0].split('-') # '-'를 제외한 날짜 값 저장\n",
        "    if date[1]=='08':\n",
        "      for i in date[2]:\n",
        "        #일과 같은 번호의 인덱스에 일별 데이터저장( 1일 -> month[0])\n",
        "        day[int(date[2])-1].append(float(row[-1]))\n",
        "    \n",
        "\n",
        "import matplotlib.pyplot as plt\n",
        "plt.rc('font', family='NanumBarunGothic') #나눔바른고딕\n",
        "# plt.rc('font', family='Malgun Gothic') #맑은 고딕\n",
        "# plt.rcParams['axes.unicode_minus'] = False #마이너스 기호 깨짐 방지\n",
        "# plt.title('1907년부터 2018년까지 수집된 8월의 서울 그래프')\n",
        "plt.figure(figsize=(12,4), dpi=100)\n",
        "plt.style.use('ggplot') #그래프 스타일 지정\n",
        "plt.boxplot(day, showfliers=False) #아웃라이어 값 생략\n",
        "plt.title('서울 8월의 일별 최고기온 상자그림')\n",
        "plt.xlabel('일')\n",
        "plt.show()\n",
        "f.close()"
      ],
      "execution_count": null,
      "outputs": [
        {
          "output_type": "stream",
          "name": "stdout",
          "text": [
            "Drive already mounted at /content/gdrive; to attempt to forcibly remount, call drive.mount(\"/content/gdrive\", force_remount=True).\n"
          ]
        },
        {
          "output_type": "display_data",
          "data": {
            "image/png": "[encoded data removed]",
            "text/plain": [
              "<Figure size 1200x400 with 1 Axes>"
            ]
          },
          "metadata": {}
        }
      ]
    },
    {
      "cell_type": "markdown",
      "metadata": {
        "id": "nF6xpzzo8DOi"
      },
      "source": [
        "# 우리동네 인구 조사하기"
      ]
    },
    {
      "cell_type": "code",
      "metadata": {
        "colab": {
          "base_uri": "https://localhost:8080/"
        },
        "id": "dJkm3jm3yVHT",
        "outputId": "3581cef9-f232-49dd-8822-585fecc8f31b"
      },
      "source": [
        ""
      ],
      "execution_count": null,
      "outputs": [
        {
          "name": "stdout",
          "output_type": "stream",
          "text": [
            "Drive already mounted at /content/gdrive; to attempt to forcibly remount, call drive.mount(\"/content/gdrive\", force_remount=True).\n",
            "인구 구조가 알고 싶은 지역의 이름(읍면동 단위)를 입력해주세요 : 성남시 수정구\n"
          ]
        }
      ]
    },
    {
      "cell_type": "code",
      "metadata": {
        "colab": {
          "base_uri": "https://localhost:8080/",
          "height": 208
        },
        "id": "1zysld7a81qJ",
        "outputId": "9ecc56dd-f675-419e-e0d2-edcc95d5101e"
      },
      "source": [
        "tprint('명동' in '서울특별시 중구 명동(1114055000)') \n",
        "print('1114' in '서울특별시 중구 명동(1114055000)')\n",
        "print('()' in '서울특별시 중구 명동(1114055000)') "
      ],
      "execution_count": null,
      "outputs": [
        {
          "output_type": "error",
          "ename": "NameError",
          "evalue": "ignored",
          "traceback": [
            "\u001b[0;31m---------------------------------------------------------------------------\u001b[0m",
            "\u001b[0;31mNameError\u001b[0m                                 Traceback (most recent call last)",
            "\u001b[0;32m<ipython-input-102-d8bd116d67a4>\u001b[0m in \u001b[0;36m<module>\u001b[0;34m()\u001b[0m\n\u001b[0;32m----> 1\u001b[0;31m \u001b[0m사print\u001b[0m\u001b[0;34m(\u001b[0m\u001b[0;34m'명동'\u001b[0m \u001b[0;32min\u001b[0m \u001b[0;34m'서울특별시 중구 명동(1114055000)'\u001b[0m\u001b[0;34m)\u001b[0m\u001b[0;34m\u001b[0m\u001b[0;34m\u001b[0m\u001b[0m\n\u001b[0m\u001b[1;32m      2\u001b[0m \u001b[0mprint\u001b[0m\u001b[0;34m(\u001b[0m\u001b[0;34m'1114'\u001b[0m \u001b[0;32min\u001b[0m \u001b[0;34m'서울특별시 중구 명동(1114055000)'\u001b[0m\u001b[0;34m)\u001b[0m\u001b[0;34m\u001b[0m\u001b[0;34m\u001b[0m\u001b[0m\n\u001b[1;32m      3\u001b[0m \u001b[0mprint\u001b[0m\u001b[0;34m(\u001b[0m\u001b[0;34m'()'\u001b[0m \u001b[0;32min\u001b[0m \u001b[0;34m'서울특별시 중구 명동(1114055000)'\u001b[0m\u001b[0;34m)\u001b[0m\u001b[0;34m\u001b[0m\u001b[0;34m\u001b[0m\u001b[0m\n",
            "\u001b[0;31mNameError\u001b[0m: name '사print' is not defined"
          ]
        }
      ]
    },
    {
      "cell_type": "code",
      "metadata": {
        "colab": {
          "base_uri": "https://localhost:8080/",
          "height": 337
        },
        "id": "RyURcu0yOcMR",
        "outputId": "68061620-f06a-4a5a-f50a-9d3ce3b770af"
      },
      "source": [
        "from google.colab import drive\n",
        "\n",
        "drive.mount('/content/gdrive')\n",
        "import csv\n",
        "\n",
        "f=open('/content/gdrive/MyDrive/age.csv',encoding='cp949')\n",
        "data=csv.reader(f)\n",
        "header=next(data)\n",
        "\n",
        "\n",
        "result=[] #빈 리스트 만들기\n",
        "for row in data:\n",
        "  if '신도림' in row[0]:  #'신도림'이 포함된 행정구역 찾기\n",
        "    row=row[3:]\n",
        "    for i in row:\n",
        "      result.append(int(i))\n",
        "       #0세부터 100세 이상까지 모든 연령에 대해 반복하기\n",
        "\n",
        "print(result) #0세부터 100세이상까지의 인구수 출력하기\n",
        "\n",
        "import matplotlib.pyplot as plt\n",
        "plt.style.use('ggplot') #격자 무늬 스타일 저장\n",
        "plt.plot(result)\n",
        "plt.title('그래프')\n",
        "f.close()"
      ],
      "execution_count": null,
      "outputs": [
        {
          "output_type": "stream",
          "name": "stdout",
          "text": [
            "Drive already mounted at /content/gdrive; to attempt to forcibly remount, call drive.mount(\"/content/gdrive\", force_remount=True).\n",
            "[378, 413, 437, 412, 423, 418, 467, 414, 414, 416, 396, 362, 386, 339, 341, 351, 368, 391, 351, 387, 444, 432, 484, 449, 490, 431, 511, 445, 507, 517, 507, 566, 611, 638, 750, 772, 789, 756, 822, 679, 731, 690, 693, 734, 725, 658, 632, 602, 571, 572, 490, 500, 553, 549, 487, 537, 590, 585, 513, 515, 492, 422, 527, 397, 396, 403, 258, 314, 273, 303, 297, 197, 172, 158, 166, 186, 152, 141, 108, 118, 88, 97, 73, 70, 47, 45, 42, 27, 32, 21, 25, 23, 13, 7, 10, 6, 3, 3, 2, 2, 6]\n"
          ]
        },
        {
          "output_type": "display_data",
          "data": {
            "image/png": "[encoded data removed]",
            "text/plain": [
              "<Figure size 432x288 with 1 Axes>"
            ]
          },
          "metadata": {}
        }
      ]
    },
    {
      "cell_type": "code",
      "metadata": {
        "colab": {
          "base_uri": "https://localhost:8080/",
          "height": 317
        },
        "id": "PYgRG1jfOnEL",
        "outputId": "a284ab7f-bc24-4b1b-bcda-2b08ea332533"
      },
      "source": [
        "#인구 구조가 알고 싶은 지역의 이름(읍면동 단위)를 입력해주세요: 명동\n",
        "#타이틀 명동 지역의 인구 구조\n",
        "\n",
        "\n",
        "from google.colab import drive\n",
        "\n",
        "drive.mount('/content/gdrive')\n",
        "import csv\n",
        "\n",
        "f=open('/content/gdrive/MyDrive/age.csv',encoding='cp949')\n",
        "data=csv.reader(f)\n",
        "header=next(data)\n",
        "\n",
        "area= input('인구 구조가 알고 싶은 지역의 이름(읍면동 단위)를 입력해주세요 : ') #주소입력받기\n",
        "result=[] #빈 리스트 만들기\n",
        "for row in data:\n",
        "  if ' '+area in row[0]:  #'input 이 포함된 행정구역 찾기\n",
        "    row=row[3:]\n",
        "    for i in row:\n",
        "      result.append(int(i))\n",
        "       #0세부터 100세 이상까지 모든 연령에 대해 반복하기\n",
        "\n",
        "\n",
        "import matplotlib.pyplot as plt\n",
        "\n",
        "plt.style.use('ggplot') #격자 무늬 스타일 저장\n",
        "plt.plot(result)\n",
        "plt.title(area+'지역의 인구 구조')\n",
        "f.close()"
      ],
      "execution_count": null,
      "outputs": [
        {
          "name": "stdout",
          "output_type": "stream",
          "text": [
            "Drive already mounted at /content/gdrive; to attempt to forcibly remount, call drive.mount(\"/content/gdrive\", force_remount=True).\n",
            "인구 구조가 알고 싶은 지역의 이름(읍면동 단위)를 입력해주세요 : 성남\n"
          ]
        },
        {
          "output_type": "display_data",
          "data": {
            "image/png": "[encoded data removed]",
            "text/plain": [
              "<Figure size 432x288 with 1 Axes>"
            ]
          },
          "metadata": {}
        }
      ]
    },
    {
      "cell_type": "code",
      "metadata": {
        "colab": {
          "base_uri": "https://localhost:8080/",
          "height": 265
        },
        "id": "yLmJ63biRiNC",
        "outputId": "6767b376-d281-459d-e614-8cc66dbc55ae"
      },
      "source": [
        "#막대그래프\n",
        "\n",
        "#bar()함수는 막대그래프를 표현하는 명령어입니다.\n",
        "#막대그래프에서 막대의 길이는 각 데이터의 크기를 의미합니다.\n",
        "\n",
        "import matplotlib.pyplot as plt\n",
        "\n",
        "plt.bar([0,1,2,3,4,5,6,7,10],[1,2,3,1,4,5,6,7,5])\n",
        "plt.show()"
      ],
      "execution_count": null,
      "outputs": [
        {
          "output_type": "display_data",
          "data": {
            "image/png": "[encoded data removed]",
            "text/plain": [
              "<Figure size 432x288 with 1 Axes>"
            ]
          },
          "metadata": {}
        }
      ]
    },
    {
      "cell_type": "code",
      "metadata": {
        "colab": {
          "base_uri": "https://localhost:8080/",
          "height": 265
        },
        "id": "qyrwiN5mWI5p",
        "outputId": "fa629aed-9875-4345-9432-f7fe3d86f84c"
      },
      "source": [
        "import matplotlib.pyplot as plt\n",
        "plt.bar(range(6),[1,2,3,4,5,6])\n",
        "plt.show()"
      ],
      "execution_count": null,
      "outputs": [
        {
          "output_type": "display_data",
          "data": {
            "image/png": "[encoded data removed]",
            "text/plain": [
              "<Figure size 432x288 with 1 Axes>"
            ]
          },
          "metadata": {}
        }
      ]
    },
    {
      "cell_type": "code",
      "metadata": {
        "colab": {
          "base_uri": "https://localhost:8080/",
          "height": 301
        },
        "id": "pro-orGhW13k",
        "outputId": "4b76130b-b448-4207-8375-7e5e8b63bd6d"
      },
      "source": [
        "#인구 구조가 알고 싶은 지역의 이름(읍면동 단위)를 입력해주세요: 명동\n",
        "#타이틀 명동 지역의 인구 구조\n",
        "\n",
        "\n",
        "from google.colab import drive\n",
        "import csv\n",
        "drive.mount('/content/gdrive')\n",
        "f=open('/content/gdrive/MyDrive/age.csv',encoding='cp949')\n",
        "data=csv.reader(f)\n",
        "header=next(data)\n",
        "\n",
        "area= input('인구 구조가 알고 싶은 지역의 이름(읍면동 단위)를 입력해주세요 : ') #주소입력받기\n",
        "result=[] #빈 리스트 만들기\n",
        "for row in data:\n",
        "  if ' '+area in row[0]:  #'input 이 포함된 행정구역 찾기\n",
        "    for i in row[3:]:\n",
        "      result.append(int(i))\n",
        "\n",
        "import matplotlib.pyplot as plt\n",
        "plt.barh(range(101), result)\n",
        "plt.show()\n",
        "f.close()"
      ],
      "execution_count": null,
      "outputs": [
        {
          "name": "stdout",
          "output_type": "stream",
          "text": [
            "Drive already mounted at /content/gdrive; to attempt to forcibly remount, call drive.mount(\"/content/gdrive\", force_remount=True).\n",
            "인구 구조가 알고 싶은 지역의 이름(읍면동 단위)를 입력해주세요 : 신도림\n"
          ]
        },
        {
          "output_type": "display_data",
          "data": {
            "image/png": "[encoded data removed]",
            "text/plain": [
              "<Figure size 432x288 with 1 Axes>"
            ]
          },
          "metadata": {}
        }
      ]
    },
    {
      "cell_type": "code",
      "metadata": {
        "id": "BgE9wcFjX8Bt"
      },
      "source": [
        "import csv\n",
        "from google.colab import drive\n",
        "drive.mount('/content/gdrive')\n",
        "file=open('/content/gdrive/MyDrive/gender.csv', encoding ='cp949')\n",
        "data=csv.reader(file)\n",
        "f=[]\n",
        "m=[]\n",
        "\n",
        "for row in data:\n",
        "  if '신도림' in row[0]:\n",
        "    for i in range(103):\n",
        "      m.append(int(row[i+3])) #3-103\n",
        "      f.append(int(row[-(i+1)])) #106-206\n",
        "f.reverse() \n",
        "\n",
        "file.close()"
      ],
      "execution_count": null,
      "outputs": []
    },
    {
      "cell_type": "code",
      "metadata": {
        "colab": {
          "base_uri": "https://localhost:8080/",
          "height": 389
        },
        "id": "hR72cR0mcCDW",
        "outputId": "3fa3723b-e741-4c65-8a26-abe79dd1684c"
      },
      "source": [
        "import csv\n",
        "from google.colab import drive\n",
        "drive.mount('/content/gdrive')\n",
        "file=open('/content/gdrive/MyDrive/gender.csv', encoding ='cp949')\n",
        "data=csv.reader(file)\n",
        "f=[]\n",
        "m=[]\n",
        "area=input('찾고 싶은 지역의 이름을 알려주세요 : ')\n",
        "for row in data:\n",
        "  if ' '+area in row[0]:\n",
        "    for i in row[3:104]:\n",
        "      m.append(-int(i)) #3-103\n",
        "    for i in row[106:]:\n",
        "      f.append(int(i)) #106-206\n",
        "import matplotlib.pyplot as plt\n",
        "plt.rc('font', family='NanumBarunGothic') #나눔바른고딕\n",
        "plt.title(area+'지역의 남녀 성별 인구표')\n",
        "plt.barh(range(101),m)\n",
        "plt.barh(range(101),f)\n",
        "plt.legend(['male','female'])\n",
        "plt.ylabel('나이')\n",
        "plt.show()\n",
        "file.close()"
      ],
      "execution_count": null,
      "outputs": [
        {
          "name": "stdout",
          "output_type": "stream",
          "text": [
            "Drive already mounted at /content/gdrive; to attempt to forcibly remount, call drive.mount(\"/content/gdrive\", force_remount=True).\n",
            "찾고 싶은 지역의 이름을 알려주세요 : 신도림\n"
          ]
        },
        {
          "output_type": "stream",
          "name": "stderr",
          "text": [
            "/usr/local/lib/python3.7/dist-packages/matplotlib/backends/backend_agg.py:214: RuntimeWarning: Glyph 8722 missing from current font.\n",
            "  font.set_text(s, 0.0, flags=flags)\n",
            "/usr/local/lib/python3.7/dist-packages/matplotlib/backends/backend_agg.py:183: RuntimeWarning: Glyph 8722 missing from current font.\n",
            "  font.set_text(s, 0, flags=flags)\n"
          ]
        },
        {
          "output_type": "display_data",
          "data": {
            "image/png": "[encoded data removed]",
            "text/plain": [
              "<Figure size 432x288 with 1 Axes>"
            ]
          },
          "metadata": {}
        }
      ]
    },
    {
      "cell_type": "code",
      "metadata": {
        "colab": {
          "base_uri": "https://localhost:8080/",
          "height": 730
        },
        "id": "mLzFwlZbccTh",
        "outputId": "cf90f934-98e4-43cc-b1a7-841b99c4653a"
      },
      "source": [
        "#찾고 싶은 지역의 이름을 알려주세요: 도담동\n",
        "import csv\n",
        "from google.colab import drive\n",
        "drive.mount('/content/gdrive')\n",
        "file=open('/content/gdrive/MyDrive/gender.csv', encoding ='cp949')\n",
        "data=csv.reader(file)\n",
        "f=[]\n",
        "m=[]\n",
        "area=input('찾고 싶은 지역의 이름을 알려주세요 : ')\n",
        "for row in data:\n",
        "  if ' '+area in row[0]:\n",
        "    for i in row[3:104]:\n",
        "      m.append(-int(i)) #3-103\n",
        "    for i in row[106:]:\n",
        "      f.append(int(i)) #106-206\n",
        "import matplotlib.pyplot as plt\n",
        "plt.rc('font', family='NanumBarunGothic') #나눔바른고딕\n",
        "plt.title(area+'지역의 남녀 성별 인구표')\n",
        "plt.barh(range(101),m)\n",
        "plt.barh(range(101),f)\n",
        "plt.legend(['male','female'])\n",
        "plt.ylabel('나이')\n",
        "plt.show()\n",
        "file.close()"
      ],
      "execution_count": null,
      "outputs": [
        {
          "name": "stdout",
          "output_type": "stream",
          "text": [
            "Drive already mounted at /content/gdrive; to attempt to forcibly remount, call drive.mount(\"/content/gdrive\", force_remount=True).\n",
            "찾고 싶은 지역의 이름을 알려주세요 : 제주\n"
          ]
        },
        {
          "output_type": "error",
          "ename": "ValueError",
          "evalue": "ignored",
          "traceback": [
            "\u001b[0;31m---------------------------------------------------------------------------\u001b[0m",
            "\u001b[0;31mValueError\u001b[0m                                Traceback (most recent call last)",
            "\u001b[0;32m<ipython-input-140-14d01e5b001b>\u001b[0m in \u001b[0;36m<module>\u001b[0;34m()\u001b[0m\n\u001b[1;32m     17\u001b[0m \u001b[0mplt\u001b[0m\u001b[0;34m.\u001b[0m\u001b[0mrc\u001b[0m\u001b[0;34m(\u001b[0m\u001b[0;34m'font'\u001b[0m\u001b[0;34m,\u001b[0m \u001b[0mfamily\u001b[0m\u001b[0;34m=\u001b[0m\u001b[0;34m'NanumBarunGothic'\u001b[0m\u001b[0;34m)\u001b[0m \u001b[0;31m#나눔바른고딕\u001b[0m\u001b[0;34m\u001b[0m\u001b[0;34m\u001b[0m\u001b[0m\n\u001b[1;32m     18\u001b[0m \u001b[0mplt\u001b[0m\u001b[0;34m.\u001b[0m\u001b[0mtitle\u001b[0m\u001b[0;34m(\u001b[0m\u001b[0marea\u001b[0m\u001b[0;34m+\u001b[0m\u001b[0;34m'지역의 남녀 성별 인구표'\u001b[0m\u001b[0;34m)\u001b[0m\u001b[0;34m\u001b[0m\u001b[0;34m\u001b[0m\u001b[0m\n\u001b[0;32m---> 19\u001b[0;31m \u001b[0mplt\u001b[0m\u001b[0;34m.\u001b[0m\u001b[0mbarh\u001b[0m\u001b[0;34m(\u001b[0m\u001b[0mrange\u001b[0m\u001b[0;34m(\u001b[0m\u001b[0;36m101\u001b[0m\u001b[0;34m)\u001b[0m\u001b[0;34m,\u001b[0m\u001b[0mm\u001b[0m\u001b[0;34m)\u001b[0m\u001b[0;34m\u001b[0m\u001b[0;34m\u001b[0m\u001b[0m\n\u001b[0m\u001b[1;32m     20\u001b[0m \u001b[0mplt\u001b[0m\u001b[0;34m.\u001b[0m\u001b[0mbarh\u001b[0m\u001b[0;34m(\u001b[0m\u001b[0mrange\u001b[0m\u001b[0;34m(\u001b[0m\u001b[0;36m101\u001b[0m\u001b[0;34m)\u001b[0m\u001b[0;34m,\u001b[0m\u001b[0mf\u001b[0m\u001b[0;34m)\u001b[0m\u001b[0;34m\u001b[0m\u001b[0;34m\u001b[0m\u001b[0m\n\u001b[1;32m     21\u001b[0m \u001b[0mplt\u001b[0m\u001b[0;34m.\u001b[0m\u001b[0mlegend\u001b[0m\u001b[0;34m(\u001b[0m\u001b[0;34m[\u001b[0m\u001b[0;34m'male'\u001b[0m\u001b[0;34m,\u001b[0m\u001b[0;34m'female'\u001b[0m\u001b[0;34m]\u001b[0m\u001b[0;34m)\u001b[0m\u001b[0;34m\u001b[0m\u001b[0;34m\u001b[0m\u001b[0m\n",
            "\u001b[0;32m/usr/local/lib/python3.7/dist-packages/matplotlib/pyplot.py\u001b[0m in \u001b[0;36mbarh\u001b[0;34m(y, width, height, left, align, **kwargs)\u001b[0m\n\u001b[1;32m   2421\u001b[0m \u001b[0;32mdef\u001b[0m \u001b[0mbarh\u001b[0m\u001b[0;34m(\u001b[0m\u001b[0my\u001b[0m\u001b[0;34m,\u001b[0m \u001b[0mwidth\u001b[0m\u001b[0;34m,\u001b[0m \u001b[0mheight\u001b[0m\u001b[0;34m=\u001b[0m\u001b[0;36m0.8\u001b[0m\u001b[0;34m,\u001b[0m \u001b[0mleft\u001b[0m\u001b[0;34m=\u001b[0m\u001b[0;32mNone\u001b[0m\u001b[0;34m,\u001b[0m \u001b[0;34m*\u001b[0m\u001b[0;34m,\u001b[0m \u001b[0malign\u001b[0m\u001b[0;34m=\u001b[0m\u001b[0;34m'center'\u001b[0m\u001b[0;34m,\u001b[0m \u001b[0;34m**\u001b[0m\u001b[0mkwargs\u001b[0m\u001b[0;34m)\u001b[0m\u001b[0;34m:\u001b[0m\u001b[0;34m\u001b[0m\u001b[0;34m\u001b[0m\u001b[0m\n\u001b[1;32m   2422\u001b[0m     return gca().barh(\n\u001b[0;32m-> 2423\u001b[0;31m         y, width, height=height, left=left, align=align, **kwargs)\n\u001b[0m\u001b[1;32m   2424\u001b[0m \u001b[0;34m\u001b[0m\u001b[0m\n\u001b[1;32m   2425\u001b[0m \u001b[0;34m\u001b[0m\u001b[0m\n",
            "\u001b[0;32m/usr/local/lib/python3.7/dist-packages/matplotlib/axes/_axes.py\u001b[0m in \u001b[0;36mbarh\u001b[0;34m(self, y, width, height, left, align, **kwargs)\u001b[0m\n\u001b[1;32m   2545\u001b[0m         \u001b[0mkwargs\u001b[0m\u001b[0;34m.\u001b[0m\u001b[0msetdefault\u001b[0m\u001b[0;34m(\u001b[0m\u001b[0;34m'orientation'\u001b[0m\u001b[0;34m,\u001b[0m \u001b[0;34m'horizontal'\u001b[0m\u001b[0;34m)\u001b[0m\u001b[0;34m\u001b[0m\u001b[0;34m\u001b[0m\u001b[0m\n\u001b[1;32m   2546\u001b[0m         patches = self.bar(x=left, height=height, width=width, bottom=y,\n\u001b[0;32m-> 2547\u001b[0;31m                            align=align, **kwargs)\n\u001b[0m\u001b[1;32m   2548\u001b[0m         \u001b[0;32mreturn\u001b[0m \u001b[0mpatches\u001b[0m\u001b[0;34m\u001b[0m\u001b[0;34m\u001b[0m\u001b[0m\n\u001b[1;32m   2549\u001b[0m \u001b[0;34m\u001b[0m\u001b[0m\n",
            "\u001b[0;32m/usr/local/lib/python3.7/dist-packages/matplotlib/__init__.py\u001b[0m in \u001b[0;36minner\u001b[0;34m(ax, data, *args, **kwargs)\u001b[0m\n\u001b[1;32m   1563\u001b[0m     \u001b[0;32mdef\u001b[0m \u001b[0minner\u001b[0m\u001b[0;34m(\u001b[0m\u001b[0max\u001b[0m\u001b[0;34m,\u001b[0m \u001b[0;34m*\u001b[0m\u001b[0margs\u001b[0m\u001b[0;34m,\u001b[0m \u001b[0mdata\u001b[0m\u001b[0;34m=\u001b[0m\u001b[0;32mNone\u001b[0m\u001b[0;34m,\u001b[0m \u001b[0;34m**\u001b[0m\u001b[0mkwargs\u001b[0m\u001b[0;34m)\u001b[0m\u001b[0;34m:\u001b[0m\u001b[0;34m\u001b[0m\u001b[0;34m\u001b[0m\u001b[0m\n\u001b[1;32m   1564\u001b[0m         \u001b[0;32mif\u001b[0m \u001b[0mdata\u001b[0m \u001b[0;32mis\u001b[0m \u001b[0;32mNone\u001b[0m\u001b[0;34m:\u001b[0m\u001b[0;34m\u001b[0m\u001b[0;34m\u001b[0m\u001b[0m\n\u001b[0;32m-> 1565\u001b[0;31m             \u001b[0;32mreturn\u001b[0m \u001b[0mfunc\u001b[0m\u001b[0;34m(\u001b[0m\u001b[0max\u001b[0m\u001b[0;34m,\u001b[0m \u001b[0;34m*\u001b[0m\u001b[0mmap\u001b[0m\u001b[0;34m(\u001b[0m\u001b[0msanitize_sequence\u001b[0m\u001b[0;34m,\u001b[0m \u001b[0margs\u001b[0m\u001b[0;34m)\u001b[0m\u001b[0;34m,\u001b[0m \u001b[0;34m**\u001b[0m\u001b[0mkwargs\u001b[0m\u001b[0;34m)\u001b[0m\u001b[0;34m\u001b[0m\u001b[0;34m\u001b[0m\u001b[0m\n\u001b[0m\u001b[1;32m   1566\u001b[0m \u001b[0;34m\u001b[0m\u001b[0m\n\u001b[1;32m   1567\u001b[0m         \u001b[0mbound\u001b[0m \u001b[0;34m=\u001b[0m \u001b[0mnew_sig\u001b[0m\u001b[0;34m.\u001b[0m\u001b[0mbind\u001b[0m\u001b[0;34m(\u001b[0m\u001b[0max\u001b[0m\u001b[0;34m,\u001b[0m \u001b[0;34m*\u001b[0m\u001b[0margs\u001b[0m\u001b[0;34m,\u001b[0m \u001b[0;34m**\u001b[0m\u001b[0mkwargs\u001b[0m\u001b[0;34m)\u001b[0m\u001b[0;34m\u001b[0m\u001b[0;34m\u001b[0m\u001b[0m\n",
            "\u001b[0;32m/usr/local/lib/python3.7/dist-packages/matplotlib/axes/_axes.py\u001b[0m in \u001b[0;36mbar\u001b[0;34m(self, x, height, width, bottom, align, **kwargs)\u001b[0m\n\u001b[1;32m   2340\u001b[0m         x, height, width, y, linewidth = np.broadcast_arrays(\n\u001b[1;32m   2341\u001b[0m             \u001b[0;31m# Make args iterable too.\u001b[0m\u001b[0;34m\u001b[0m\u001b[0;34m\u001b[0m\u001b[0;34m\u001b[0m\u001b[0m\n\u001b[0;32m-> 2342\u001b[0;31m             np.atleast_1d(x), height, width, y, linewidth)\n\u001b[0m\u001b[1;32m   2343\u001b[0m \u001b[0;34m\u001b[0m\u001b[0m\n\u001b[1;32m   2344\u001b[0m         \u001b[0;31m# Now that units have been converted, set the tick locations.\u001b[0m\u001b[0;34m\u001b[0m\u001b[0;34m\u001b[0m\u001b[0;34m\u001b[0m\u001b[0m\n",
            "\u001b[0;32m<__array_function__ internals>\u001b[0m in \u001b[0;36mbroadcast_arrays\u001b[0;34m(*args, **kwargs)\u001b[0m\n",
            "\u001b[0;32m/usr/local/lib/python3.7/dist-packages/numpy/lib/stride_tricks.py\u001b[0m in \u001b[0;36mbroadcast_arrays\u001b[0;34m(subok, *args)\u001b[0m\n\u001b[1;32m    256\u001b[0m     \u001b[0margs\u001b[0m \u001b[0;34m=\u001b[0m \u001b[0;34m[\u001b[0m\u001b[0mnp\u001b[0m\u001b[0;34m.\u001b[0m\u001b[0marray\u001b[0m\u001b[0;34m(\u001b[0m\u001b[0m_m\u001b[0m\u001b[0;34m,\u001b[0m \u001b[0mcopy\u001b[0m\u001b[0;34m=\u001b[0m\u001b[0;32mFalse\u001b[0m\u001b[0;34m,\u001b[0m \u001b[0msubok\u001b[0m\u001b[0;34m=\u001b[0m\u001b[0msubok\u001b[0m\u001b[0;34m)\u001b[0m \u001b[0;32mfor\u001b[0m \u001b[0m_m\u001b[0m \u001b[0;32min\u001b[0m \u001b[0margs\u001b[0m\u001b[0;34m]\u001b[0m\u001b[0;34m\u001b[0m\u001b[0;34m\u001b[0m\u001b[0m\n\u001b[1;32m    257\u001b[0m \u001b[0;34m\u001b[0m\u001b[0m\n\u001b[0;32m--> 258\u001b[0;31m     \u001b[0mshape\u001b[0m \u001b[0;34m=\u001b[0m \u001b[0m_broadcast_shape\u001b[0m\u001b[0;34m(\u001b[0m\u001b[0;34m*\u001b[0m\u001b[0margs\u001b[0m\u001b[0;34m)\u001b[0m\u001b[0;34m\u001b[0m\u001b[0;34m\u001b[0m\u001b[0m\n\u001b[0m\u001b[1;32m    259\u001b[0m \u001b[0;34m\u001b[0m\u001b[0m\n\u001b[1;32m    260\u001b[0m     \u001b[0;32mif\u001b[0m \u001b[0mall\u001b[0m\u001b[0;34m(\u001b[0m\u001b[0marray\u001b[0m\u001b[0;34m.\u001b[0m\u001b[0mshape\u001b[0m \u001b[0;34m==\u001b[0m \u001b[0mshape\u001b[0m \u001b[0;32mfor\u001b[0m \u001b[0marray\u001b[0m \u001b[0;32min\u001b[0m \u001b[0margs\u001b[0m\u001b[0;34m)\u001b[0m\u001b[0;34m:\u001b[0m\u001b[0;34m\u001b[0m\u001b[0;34m\u001b[0m\u001b[0m\n",
            "\u001b[0;32m/usr/local/lib/python3.7/dist-packages/numpy/lib/stride_tricks.py\u001b[0m in \u001b[0;36m_broadcast_shape\u001b[0;34m(*args)\u001b[0m\n\u001b[1;32m    187\u001b[0m     \u001b[0;31m# use the old-iterator because np.nditer does not handle size 0 arrays\u001b[0m\u001b[0;34m\u001b[0m\u001b[0;34m\u001b[0m\u001b[0;34m\u001b[0m\u001b[0m\n\u001b[1;32m    188\u001b[0m     \u001b[0;31m# consistently\u001b[0m\u001b[0;34m\u001b[0m\u001b[0;34m\u001b[0m\u001b[0;34m\u001b[0m\u001b[0m\n\u001b[0;32m--> 189\u001b[0;31m     \u001b[0mb\u001b[0m \u001b[0;34m=\u001b[0m \u001b[0mnp\u001b[0m\u001b[0;34m.\u001b[0m\u001b[0mbroadcast\u001b[0m\u001b[0;34m(\u001b[0m\u001b[0;34m*\u001b[0m\u001b[0margs\u001b[0m\u001b[0;34m[\u001b[0m\u001b[0;34m:\u001b[0m\u001b[0;36m32\u001b[0m\u001b[0;34m]\u001b[0m\u001b[0;34m)\u001b[0m\u001b[0;34m\u001b[0m\u001b[0;34m\u001b[0m\u001b[0m\n\u001b[0m\u001b[1;32m    190\u001b[0m     \u001b[0;31m# unfortunately, it cannot handle 32 or more arguments directly\u001b[0m\u001b[0;34m\u001b[0m\u001b[0;34m\u001b[0m\u001b[0;34m\u001b[0m\u001b[0m\n\u001b[1;32m    191\u001b[0m     \u001b[0;32mfor\u001b[0m \u001b[0mpos\u001b[0m \u001b[0;32min\u001b[0m \u001b[0mrange\u001b[0m\u001b[0;34m(\u001b[0m\u001b[0;36m32\u001b[0m\u001b[0;34m,\u001b[0m \u001b[0mlen\u001b[0m\u001b[0;34m(\u001b[0m\u001b[0margs\u001b[0m\u001b[0;34m)\u001b[0m\u001b[0;34m,\u001b[0m \u001b[0;36m31\u001b[0m\u001b[0;34m)\u001b[0m\u001b[0;34m:\u001b[0m\u001b[0;34m\u001b[0m\u001b[0;34m\u001b[0m\u001b[0m\n",
            "\u001b[0;31mValueError\u001b[0m: shape mismatch: objects cannot be broadcast to a single shape"
          ]
        },
        {
          "output_type": "display_data",
          "data": {
            "image/png": "[encoded data removed]",
            "text/plain": [
              "<Figure size 432x288 with 1 Axes>"
            ]
          },
          "metadata": {}
        }
      ]
    },
    {
      "cell_type": "code",
      "metadata": {
        "colab": {
          "base_uri": "https://localhost:8080/",
          "height": 266
        },
        "id": "caIm7cjzfzGs",
        "outputId": "f49da2cb-69b8-4d35-9ed9-55c5a34ee723"
      },
      "source": [
        "# 원 그래프 = 파이차트\n",
        "#pie( )함수는 전체 데이터 중 특정 데이터의 비율을 보기 쉽게 표현합니다.\n",
        "\n",
        "import matplotlib.pyplot as plt\n",
        "size= [2441,2312,1031, 1233]\n",
        "plt.axis('equal')\n",
        "label=['A형','B형','AB형', 'O형'] #데이터\n",
        "plt.pie(size, labels= label, autopct='%.1f%%',colors=color, explode=(0,0,0.3,0)) #동그란 원\n",
        "color=['darkmagenta','deeppink','hotpink','pink']\n",
        "plt.rc('font', family='NanumBarunGothic') #나눔바른고딕\n",
        "plt.legend(label)\n",
        "plt.show()"
      ],
      "execution_count": null,
      "outputs": [
        {
          "output_type": "display_data",
          "data": {
            "image/png": "[encoded data removed]",
            "text/plain": [
              "<Figure size 432x288 with 1 Axes>"
            ]
          },
          "metadata": {}
        }
      ]
    },
    {
      "cell_type": "code",
      "metadata": {
        "colab": {
          "base_uri": "https://localhost:8080/",
          "height": 338
        },
        "id": "XbZ22WFuiCLC",
        "outputId": "2435ec1d-fab3-4c1d-c5fb-352d3f6d7d9e"
      },
      "source": [
        "#원하는 지역의 성별 인구를 파이 차트로 표시하시오.\n",
        "#찾고 싶은 지역의 이름을 알려주세요: 제주특별자치도\n",
        "\n",
        "import csv\n",
        "from google.colab import drive\n",
        "drive.mount('/content/gdrive')\n",
        "file=open('/content/gdrive/MyDrive/gender.csv', encoding='cp949')\n",
        "data=csv.reader(file)\n",
        "header= next(data)\n",
        "m=[]\n",
        "f=[]\n",
        "area=input('찾고 싶은 지역의 이름을 알려주세요 : ')\n",
        "for row in data:\n",
        "  if \" \"+area in row[0]:\n",
        "    m.append(int(row[1]))\n",
        "    f.append(int(row[104]))\n",
        "\n",
        "import matplotlib.pyplot as plt\n",
        "plt.rc('font', family='NanumBarunGothic')\n",
        "\n",
        "plt.title(area+\"지역의 성별 인구 파이 차트\")\n",
        "plt.axis('equal')\n",
        "plt.pie([m,f],labels=['male', 'female'], autopct='%.1f%%')\n",
        "plt.legend(['male','female'])\n",
        "plt.show()"
      ],
      "execution_count": null,
      "outputs": [
        {
          "name": "stdout",
          "output_type": "stream",
          "text": [
            "Drive already mounted at /content/gdrive; to attempt to forcibly remount, call drive.mount(\"/content/gdrive\", force_remount=True).\n",
            "찾고 싶은 지역의 이름을 알려주세요 : 신도림\n"
          ]
        },
        {
          "output_type": "stream",
          "name": "stderr",
          "text": [
            "/usr/local/lib/python3.7/dist-packages/ipykernel_launcher.py:23: MatplotlibDeprecationWarning: Non-1D inputs to pie() are currently squeeze()d, but this behavior is deprecated since 3.1 and will be removed in 3.3; pass a 1D array instead.\n"
          ]
        },
        {
          "output_type": "display_data",
          "data": {
            "image/png": "[encoded data removed]",
            "text/plain": [
              "<Figure size 432x288 with 1 Axes>"
            ]
          },
          "metadata": {}
        }
      ]
    },
    {
      "cell_type": "code",
      "metadata": {
        "id": "Xw6Hex_sLyUt",
        "colab": {
          "base_uri": "https://localhost:8080/"
        },
        "outputId": "605fc792-3dc1-44e6-b3c7-7edaf05db34d"
      },
      "source": [
        "!sudo apt-get install -y fonts-nanum\n",
        "!sudo fc-cache -fv\n",
        "!rm ~/.cache/matplotlib -rf"
      ],
      "execution_count": null,
      "outputs": [
        {
          "output_type": "stream",
          "name": "stdout",
          "text": [
            "Reading package lists... Done\n",
            "Building dependency tree       \n",
            "Reading state information... Done\n",
            "The following NEW packages will be installed:\n",
            "  fonts-nanum\n",
            "0 upgraded, 1 newly installed, 0 to remove and 37 not upgraded.\n",
            "Need to get 9,604 kB of archives.\n",
            "After this operation, 29.5 MB of additional disk space will be used.\n",
            "Get:1 http://archive.ubuntu.com/ubuntu bionic/universe amd64 fonts-nanum all 20170925-1 [9,604 kB]\n",
            "Fetched 9,604 kB in 0s (43.7 MB/s)\n",
            "debconf: unable to initialize frontend: Dialog\n",
            "debconf: (No usable dialog-like program is installed, so the dialog based frontend cannot be used. at /usr/share/perl5/Debconf/FrontEnd/Dialog.pm line 76, <> line 1.)\n",
            "debconf: falling back to frontend: Readline\n",
            "debconf: unable to initialize frontend: Readline\n",
            "debconf: (This frontend requires a controlling tty.)\n",
            "debconf: falling back to frontend: Teletype\n",
            "dpkg-preconfigure: unable to re-open stdin: \n",
            "Selecting previously unselected package fonts-nanum.\n",
            "(Reading database ... 155219 files and directories currently installed.)\n",
            "Preparing to unpack .../fonts-nanum_20170925-1_all.deb ...\n",
            "Unpacking fonts-nanum (20170925-1) ...\n",
            "Setting up fonts-nanum (20170925-1) ...\n",
            "Processing triggers for fontconfig (2.12.6-0ubuntu2) ...\n",
            "/usr/share/fonts: caching, new cache contents: 0 fonts, 1 dirs\n",
            "/usr/share/fonts/truetype: caching, new cache contents: 0 fonts, 3 dirs\n",
            "/usr/share/fonts/truetype/humor-sans: caching, new cache contents: 1 fonts, 0 dirs\n",
            "/usr/share/fonts/truetype/liberation: caching, new cache contents: 16 fonts, 0 dirs\n",
            "/usr/share/fonts/truetype/nanum: caching, new cache contents: 10 fonts, 0 dirs\n",
            "/usr/local/share/fonts: caching, new cache contents: 0 fonts, 0 dirs\n",
            "/root/.local/share/fonts: skipping, no such directory\n",
            "/root/.fonts: skipping, no such directory\n",
            "/var/cache/fontconfig: cleaning cache directory\n",
            "/root/.cache/fontconfig: not cleaning non-existent cache directory\n",
            "/root/.fontconfig: not cleaning non-existent cache directory\n",
            "fc-cache: succeeded\n"
          ]
        }
      ]
    },
    {
      "cell_type": "code",
      "metadata": {
        "id": "1WbMJ4eCMctj",
        "colab": {
          "base_uri": "https://localhost:8080/"
        },
        "outputId": "283c719b-010e-454e-c496-c16ae0882ca0"
      },
      "source": [
        "from google.colab import drive\n",
        "\n",
        "drive.mount('/content/gdrive')"
      ],
      "execution_count": null,
      "outputs": [
        {
          "output_type": "stream",
          "name": "stdout",
          "text": [
            "Drive already mounted at /content/gdrive; to attempt to forcibly remount, call drive.mount(\"/content/gdrive\", force_remount=True).\n"
          ]
        }
      ]
    },
    {
      "cell_type": "code",
      "metadata": {
        "id": "lPp5qqEslQKT"
      },
      "source": [
        "# def dataload():\n",
        "#   import csv\n",
        "#   f=open('/content/gdrive/MyDrive/age.csv',encoding='cp949')\n",
        "#   data=csv.reader(f)\n",
        "#   header=next(data)\n",
        "#   return data\n",
        "\n",
        "def mkplt():\n",
        "  import matplotlib.pyplot as plt\n",
        "  import csv\n",
        "  f=open('/content/gdrive/MyDrive/age.csv',encoding='cp949')\n",
        "  data=csv.reader(f)\n",
        "  header=next(data)\n",
        "  area= input('인구 구조가 알고 싶은 지역의 이름(읍면동 단위)를 입력해주세요 : ') #주소입력받기\n",
        "  search=[]\n",
        "  result=[] #빈 리스트 만들기\n",
        "  num=1\n",
        "\n",
        "  for row in data:\n",
        "    if ' ' in area: # input에 빈칸이 있을 경우\n",
        "      area_=area.split(' ') \n",
        "      if area_[-1] in row[0] and area_[-2] in row[0]: #두 단어 이상을 입력할 시 마지막 입력값 2개로 판단 \n",
        "          search.append(row[0][:-12])\n",
        "          print(str(num)+'.',row[0][:-12])\n",
        "          num+=1\n",
        "   \n",
        "    elif ' '+area in ' '+row[0]:  # 빈칸을 추가하여 input이 포함된 행정구역 찾기\n",
        "      print(str(num)+'.',row[0][:-12])\n",
        "      num+=1\n",
        "      search.append(row[0][:-12])\n",
        "\n",
        "  if len(search)==0: #주소를 잘못입력시\n",
        "    return print('정확하게 입력해주세요.')\n",
        "    \n",
        "\n",
        "  elif len(search)==1: #주소가 한개일시\n",
        "    f=open('/content/gdrive/MyDrive/age.csv',encoding='cp949') # data를 두 번 로드하지 못하여 다시 불러옴\n",
        "    data=csv.reader(f)\n",
        "    header=next(data)\n",
        "    dataload()\n",
        "    for row in data:\n",
        "      if search[0] in row[0]:\n",
        "        for i in row[3:]:\n",
        "          result.append(int(i))\n",
        "    plt.title(search[0]+' 지역의 인구 구조')\n",
        "  else:\n",
        "    try:\n",
        "      print()\n",
        "      choice=int(input('원하시는 지역의 번호를 입력하세요 : ')) #지역선택\n",
        "      print()\n",
        "      plt.title(search[choice-1]+' 지역의 인구 구조')\n",
        "      f=open('/content/gdrive/MyDrive/age.csv',encoding='cp949') # data를 두 번 로드하지 못하여 다시 불러옴\n",
        "      data=csv.reader(f)\n",
        "      header=next(data)\n",
        "      for row in data:\n",
        "        if search[choice-1] in row[0]:\n",
        "          for i in row[3:]:\n",
        "            result.append(int(i))\n",
        "    except ValueError:\n",
        "      return print('숫자만 입력 가능합니다.')\n",
        "\n",
        "    except IndexError:\n",
        "      return print('범위 내에서 입력 가능합니다.')\n",
        "\n",
        "\n",
        "  plt.plot(result)\n",
        "  plt.rc('font', family='NanumBarunGothic')\n",
        "  \n",
        "  plt.xlabel('나이')\n",
        "  plt.ylabel('사람 수')\n",
        "  plt.show()\n",
        "\n",
        "\n",
        "  f.close()"
      ],
      "execution_count": null,
      "outputs": []
    },
    {
      "cell_type": "code",
      "metadata": {
        "colab": {
          "base_uri": "https://localhost:8080/",
          "height": 418
        },
        "id": "szj1q9dQ6Bq4",
        "outputId": "b20aea34-0688-49d2-8763-bb7ed2467471"
      },
      "source": [
        "mkplt()"
      ],
      "execution_count": null,
      "outputs": [
        {
          "output_type": "stream",
          "name": "stdout",
          "text": [
            "인구 구조가 알고 싶은 지역의 이름(읍면동 단위)를 입력해주세요 : 동명동\n",
            "1. 광주광역시 동구 동명동\n",
            "2. 강원도 속초시 동명동\n",
            "3. 전라남도 목포시 동명동\n",
            "\n",
            "원하시는 지역의 번호를 입력하세요 : 1\n",
            "\n"
          ]
        },
        {
          "output_type": "display_data",
          "data": {
            "image/png": "[encoded data removed]",
            "text/plain": [
              "<Figure size 432x288 with 1 Axes>"
            ]
          },
          "metadata": {
            "needs_background": "light"
          }
        }
      ]
    },
    {
      "cell_type": "code",
      "metadata": {
        "id": "6WexVw5-pUZC"
      },
      "source": [
        "ㅇㅅc=['수정구']"
      ],
      "execution_count": null,
      "outputs": []
    },
    {
      "cell_type": "code",
      "metadata": {
        "colab": {
          "base_uri": "https://localhost:8080/"
        },
        "id": "GTEOYqBDwb00",
        "outputId": "ea8eaee2-e7da-40c9-adb2-0d9344cd0deb"
      },
      "source": [
        "b= '경기도 성남시 수정구 신흥1동(4113151000)'\n",
        "if c[0] in b:\n",
        "  print('알로하')"
      ],
      "execution_count": null,
      "outputs": [
        {
          "output_type": "stream",
          "name": "stdout",
          "text": [
            "알로하\n"
          ]
        }
      ]
    },
    {
      "cell_type": "code",
      "metadata": {
        "colab": {
          "base_uri": "https://localhost:8080/",
          "height": 35
        },
        "id": "bjDbiyrbz9Iq",
        "outputId": "f856dd54-55cf-4ca3-e676-c816fd201514"
      },
      "source": [
        "b[:-12]"
      ],
      "execution_count": null,
      "outputs": [
        {
          "output_type": "execute_result",
          "data": {
            "application/vnd.google.colaboratory.intrinsic+json": {
              "type": "string"
            },
            "text/plain": [
              "'경기도 성남시 수정구 신흥1동'"
            ]
          },
          "metadata": {},
          "execution_count": 41
        }
      ]
    },
    {
      "cell_type": "code",
      "metadata": {
        "id": "EC_1oBtX1q6y"
      },
      "source": [
        ""
      ],
      "execution_count": null,
      "outputs": []
    }
  ]
}